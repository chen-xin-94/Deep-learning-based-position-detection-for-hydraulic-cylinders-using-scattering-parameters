{
    "cells": [
        {
            "cell_type": "code",
            "execution_count": 1,
            "id": "93f8e703",
            "metadata": {},
            "outputs": [],
            "source": [
                "from pathlib import Path\n",
                "import numpy as np\n",
                "import matplotlib.pyplot as plt\n",
                "%matplotlib inline\n",
                "import pickle\n",
                "import os\n",
                "import random\n",
                "import time"
            ]
        },
        {
            "cell_type": "code",
            "execution_count": 12,
            "id": "8f04455f",
            "metadata": {},
            "outputs": [],
            "source": [
                "from sklearn.model_selection import train_test_split\n",
                "from sklearn.metrics import mean_squared_error\n",
                "\n",
                "import torch\n",
                "from torch import nn\n",
                "import torch.nn.functional as F\n",
                "\n",
                "from torch.utils.tensorboard import SummaryWriter\n"
            ]
        },
        {
            "cell_type": "code",
            "execution_count": 3,
            "metadata": {},
            "outputs": [
                {
                    "name": "stdout",
                    "output_type": "stream",
                    "text": [
                        "Using cuda device\n"
                    ]
                }
            ],
            "source": [
                "# specify which GPU to use\n",
                "os.environ[\"CUDA_VISIBLE_DEVICES\"]=\"0\"\n",
                "device = \"cuda\" if torch.cuda.is_available() else \"cpu\"\n",
                "print(f\"Using {device} device\")"
            ]
        },
        {
            "cell_type": "code",
            "execution_count": 4,
            "id": "97ca28df",
            "metadata": {},
            "outputs": [],
            "source": [
                "# reproducibility\n",
                "RANDOM_STATE = 0\n",
                "torch.manual_seed(RANDOM_STATE)\n",
                "np.random.seed(RANDOM_STATE)\n",
                "random.seed(RANDOM_STATE)\n"
            ]
        },
        {
            "attachments": {},
            "cell_type": "markdown",
            "id": "bd34a9b1",
            "metadata": {},
            "source": [
                "\n",
                "## Data Loading"
            ]
        },
        {
            "cell_type": "code",
            "execution_count": 5,
            "id": "2b2f7b64",
            "metadata": {},
            "outputs": [
                {
                    "name": "stdout",
                    "output_type": "stream",
                    "text": [
                        "saved in: c:\\Users\\xinch\\Desktop\\RBI\\models\\CNN_complex_fe\n"
                    ]
                }
            ],
            "source": [
                "DIR = os.getcwd()\n",
                "if DIR.endswith(\"code\"):\n",
                "    DIR = DIR[:-5]\n",
                "SAVED_IN = os.path.abspath(DIR + \"/models\" + \"/CNN_complex_fe\")\n",
                "Path(SAVED_IN).mkdir(parents=True, exist_ok=True)\n",
                "print(f\"saved in: {SAVED_IN}\")\n",
                "\n",
                "from utils.plot_util import plot_one_gt_train_test, plot_gt_pre_overlap, plot_3_losses\n",
                "from utils.data_util import (\n",
                "    dotdict,\n",
                "    extract_pos_s21_offset,\n",
                "    load_pos_s21,\n",
                "    save_pre,\n",
                "    load_pre,\n",
                "    PreprocessedDataset,\n",
                "    get_dataloader,\n",
                ")\n",
                "from utils.nn_util import train_NN, count_parameters, count_parameters_table, dict_act\n",
                "from utils.complex_util import dict_act_complex, complex_normalize, CNN_baseline_complex_fe"
            ]
        },
        {
            "attachments": {},
            "cell_type": "markdown",
            "id": "a047eda0",
            "metadata": {},
            "source": [
                "## Data Extraction"
            ]
        },
        {
            "cell_type": "code",
            "execution_count": 6,
            "id": "aaaf0d32",
            "metadata": {},
            "outputs": [],
            "source": [
                "# load data\n",
                "folder = os.path.join(DIR, \"data\")\n",
                "data_file_name = os.path.join(folder, \"data_offset_complex.pkl\")\n",
                "pos, s21, pos_TEST, s21_TEST = load_pos_s21(data_file_name, 5)\n",
                "\n",
                "X = s21\n",
                "Y = pos\n",
                "\n",
                "X_TEST = s21_TEST\n",
                "y_TEST = pos_TEST\n"
            ]
        },
        {
            "attachments": {},
            "cell_type": "markdown",
            "id": "027f71ec",
            "metadata": {},
            "source": [
                "## Data Preprocessing"
            ]
        },
        {
            "attachments": {},
            "cell_type": "markdown",
            "id": "464b13fc",
            "metadata": {},
            "source": [
                "### Train test split wit indicies"
            ]
        },
        {
            "cell_type": "code",
            "execution_count": 7,
            "id": "72d38d67",
            "metadata": {
                "scrolled": true
            },
            "outputs": [
                {
                    "name": "stdout",
                    "output_type": "stream",
                    "text": [
                        "(411257, 121)\n",
                        "(411257,)\n",
                        "(102815, 121)\n",
                        "(102815,)\n"
                    ]
                }
            ],
            "source": [
                "indices = np.arange(X.shape[0])\n",
                "X_train, X_test, y_train, y_test, idx_train, idx_test = train_test_split(\n",
                "    X, Y, indices, test_size=0.2, random_state=RANDOM_STATE\n",
                ")\n",
                "idx_train_sort = np.sort(idx_train)\n",
                "idx_test_sort = np.sort(idx_test)\n",
                "\n",
                "print(X_train.shape)\n",
                "print(y_train.shape)\n",
                "print(X_test.shape)\n",
                "print(y_test.shape)\n"
            ]
        },
        {
            "attachments": {},
            "cell_type": "markdown",
            "id": "c16e9cf9",
            "metadata": {},
            "source": [
                "### Normalization"
            ]
        },
        {
            "cell_type": "code",
            "execution_count": 8,
            "id": "a359c8df",
            "metadata": {},
            "outputs": [
                {
                    "name": "stdout",
                    "output_type": "stream",
                    "text": [
                        "(411257, 1, 121)\n",
                        "(411257, 1)\n",
                        "(102815, 1, 121)\n",
                        "(102815, 1)\n",
                        "(20135, 1, 121)\n",
                        "(20135, 1)\n"
                    ]
                }
            ],
            "source": [
                "X_train_scaled, X_train_mean, X_train_std = complex_normalize(X_train)\n",
                "X_test_scaled, X_test_mean, X_test_std = complex_normalize(X_test, X_train_mean, X_train_std)\n",
                "X_TEST_scaled, X_TEST_mean, X_TEST_std = complex_normalize(X_TEST, X_train_mean, X_train_std)\n",
                "\n",
                "X_scaled = np.zeros_like(X)\n",
                "X_scaled[idx_train] = X_train_scaled\n",
                "X_scaled[idx_test] = X_test_scaled\n",
                "\n",
                "y_train = Y[idx_train].reshape(-1, 1)  # reshape to (N,1)\n",
                "y_test = Y[idx_test].reshape(-1, 1)  # reshape to (N,1)\n",
                "y_TEST = y_TEST.reshape(-1, 1)  # reshape to (N,1)\n",
                "\n",
                "# add channel dimension for CNN\n",
                "X_train_scaled = np.expand_dims(X_train_scaled,1)\n",
                "X_test_scaled = np.expand_dims(X_test_scaled,1)\n",
                "X_TEST_scaled = np.expand_dims(X_TEST_scaled,1)\n",
                "\n",
                "print(X_train_scaled.shape)\n",
                "print(y_train.shape)\n",
                "print(X_test_scaled.shape)\n",
                "print(y_test.shape)\n",
                "print(X_TEST_scaled.shape)\n",
                "print(y_TEST.shape)\n"
            ]
        },
        {
            "attachments": {},
            "cell_type": "markdown",
            "id": "913c72a0",
            "metadata": {},
            "source": [
                "# CNN concat"
            ]
        },
        {
            "attachments": {},
            "cell_type": "markdown",
            "metadata": {},
            "source": [
                "## count parameters and macs"
            ]
        },
        {
            "cell_type": "code",
            "execution_count": 9,
            "metadata": {},
            "outputs": [],
            "source": [
                "# implementation of an equivalent model without complex layers\n",
                "class CNN_count(nn.Module):\n",
                "    def __init__(\n",
                "        self,\n",
                "        n_features, \n",
                "        base_channels,\n",
                "        activation_fn, \n",
                "        device,\n",
                "        use_fe=False,\n",
                "        use_dropout=False, \n",
                "        use_bn=False\n",
                "    ):\n",
                "        super().__init__()\n",
                "\n",
                "        self.conv1 = nn.Conv1d(in_channels =1, out_channels=base_channels, kernel_size=11, stride=5, padding=0)\n",
                "        self.conv1_ = nn.Conv1d(in_channels =1, out_channels=base_channels, kernel_size=11, stride=5, padding=0)\n",
                "        self.conv2 = nn.Conv1d(in_channels =base_channels, out_channels=2*base_channels, kernel_size=3, stride=2, padding=0)\n",
                "        self.conv2_ = nn.Conv1d(in_channels =base_channels, out_channels=2*base_channels, kernel_size=3, stride=2, padding=0)\n",
                "        self.conv3 = nn.Conv1d(in_channels =2*base_channels, out_channels=4*base_channels, kernel_size=3, stride=2, padding=0)\n",
                "        self.conv3_ = nn.Conv1d(in_channels =2*base_channels, out_channels=4*base_channels, kernel_size=3, stride=2, padding=0)\n",
                "        self.conv4 = nn.Conv1d(in_channels =4*base_channels, out_channels=8*base_channels, kernel_size=3, stride=1, padding=0)\n",
                "        self.conv4_ = nn.Conv1d(in_channels =4*base_channels, out_channels=8*base_channels, kernel_size=3, stride=1, padding=0)\n",
                "        self.conv5 = nn.Conv1d(in_channels =8*base_channels, out_channels=8*base_channels, kernel_size=3, stride=1, padding=0)\n",
                "        self.conv5_ = nn.Conv1d(in_channels =8*base_channels, out_channels=8*base_channels, kernel_size=3, stride=1, padding=0)\n",
                "\n",
                "        # self.pool = ComplexMaxPool1d(2, 2)\n",
                "\n",
                "        self.fc = nn.Linear(in_features=1*2*8*base_channels, out_features=1) # TODO, 1 here is derived by the model structure\n",
                "\n",
                "\n",
                "        self.conv_block1 = self.generate_conv_block(self.conv1, activation_fn, use_dropout, use_bn)\n",
                "        self.conv_block1_ = self.generate_conv_block(self.conv1_, activation_fn, use_dropout, use_bn)\n",
                "        self.conv_block2 = self.generate_conv_block(self.conv2, activation_fn, use_dropout, use_bn)\n",
                "        self.conv_block2_ = self.generate_conv_block(self.conv2_, activation_fn, use_dropout, use_bn)\n",
                "        self.conv_block3 = self.generate_conv_block(self.conv3, activation_fn, use_dropout, use_bn)\n",
                "        self.conv_block3_ = self.generate_conv_block(self.conv3_, activation_fn, use_dropout, use_bn)\n",
                "        self.conv_block4 = self.generate_conv_block(self.conv4, activation_fn, use_dropout, use_bn)\n",
                "        self.conv_block4_ = self.generate_conv_block(self.conv4_, activation_fn, use_dropout, use_bn)\n",
                "        self.conv_block5 = self.generate_conv_block(self.conv5, activation_fn, use_dropout, use_bn)\n",
                "        self.conv_block5_ = self.generate_conv_block(self.conv5_, activation_fn, use_dropout, use_bn)\n",
                "\n",
                "\n",
                "        # frequency encoding\n",
                "        self.use_fe = use_fe\n",
                "        self.n_features = n_features\n",
                "        self.device = device\n",
                "        self.weight = nn.Parameter(torch.randn(n_features)[None, :].unsqueeze(1))\n",
                "\n",
                "    def generate_conv_block(self, conv,activation_fn, use_dropout, use_bn):\n",
                "        \"\"\"conv-bn-activation-dropout\"\"\"\n",
                "        layers = []\n",
                "        layers.append(conv) \n",
                "        if use_bn:\n",
                "            layers.append(nn.BatchNorm1d(conv.out_channels))\n",
                "        layers.append(activation_fn)\n",
                "        if use_dropout:\n",
                "            layers.append(nn.Dropout(0.5))\n",
                "        return nn.Sequential(*layers)\n",
                "\n",
                "    def frequency_encoding(self, n_features):\n",
                "        # freq range from 3e8 to 15e8 in real world\n",
                "        arr_freq = np.arange(0, n_features // 2) * 0.1 + 3\n",
                "        # normalize to [0,1]\n",
                "        arr_freq_norm = arr_freq / arr_freq[-1]\n",
                "        arr_freq_norm = arr_freq_norm[np.newaxis, :].repeat(2, axis=1)\n",
                "        return torch.Tensor(arr_freq_norm).to(self.device)\n",
                "    \n",
                "    def apply_complex(self, fr, fi, x, x_):\n",
                "        return fr(x) - fi(x_), fr(x_) + fi(x)\n",
                "\n",
                "    def forward(self, x):\n",
                "        # frequency encoding\n",
                "        if self.use_fe:\n",
                "            arr_freq_norm = self.frequency_encoding(self.n_features)\n",
                "            x += self.weight * arr_freq_norm\n",
                "        x, x_ = torch.split(x, 121, dim=-1)\n",
                "        x, x_ = self.apply_complex(self.conv_block1, self.conv_block1_, x, x_)\n",
                "        x, x_ = self.apply_complex(self.conv_block2, self.conv_block2_, x, x_)\n",
                "        x, x_ = self.apply_complex(self.conv_block3, self.conv_block3_, x, x_)\n",
                "        x, x_ = self.apply_complex(self.conv_block4, self.conv_block4_, x, x_)\n",
                "        x, x_ = self.apply_complex(self.conv_block5, self.conv_block5_, x, x_)\n",
                "        \n",
                "        x = torch.flatten(torch.cat((x,x_),dim=-1),1)\n",
                "        x = self.fc(x)\n",
                "        return x"
            ]
        },
        {
            "cell_type": "code",
            "execution_count": 11,
            "metadata": {},
            "outputs": [
                {
                    "data": {
                        "text/plain": [
                            "10755"
                        ]
                    },
                    "execution_count": 11,
                    "metadata": {},
                    "output_type": "execute_result"
                }
            ],
            "source": [
                "# config_counturation\n",
                "_config_count = {\n",
                "    \"n_features\": 242,\n",
                "    \"base_channels\": 4,\n",
                "    \"activation\": \"sigmoid\",\n",
                "    \"batch_size\": 64,\n",
                "    \"epochs\": 500,\n",
                "    \"decay_after\": 100,\n",
                "    \"patience\": 16,  # terminate after \"patience\" iterations without improvement\n",
                "    \"lr\": 0.001,  # default value\n",
                "    \"weight_decay\": 1e-4,\n",
                "    \"betas\": (0.9, 0.999),  # default value\n",
                "    \"use_fe\": True,\n",
                "    \"use_dropout\": False,\n",
                "    \"use_bn\": False,\n",
                "}\n",
                "\n",
                "# dot access\n",
                "config_count = dotdict(_config_count)\n",
                "\n",
                "# ## define the model\n",
                "\n",
                "model_count = CNN_count(\n",
                "    n_features=config_count.n_features,\n",
                "    base_channels=config_count.base_channels,\n",
                "    device=device,\n",
                "    activation_fn=dict_act[config_count.activation],\n",
                "    use_fe=config_count.use_fe,\n",
                "    use_dropout=config_count.use_dropout,\n",
                "    use_bn=config_count.use_bn,\n",
                ").to(device)\n",
                "# summary(model, input_size=(1, 242)) # somethings wrong with this\n",
                "count_parameters(model_count)\n"
            ]
        },
        {
            "attachments": {},
            "cell_type": "markdown",
            "metadata": {},
            "source": [
                "## base channel 4"
            ]
        },
        {
            "attachments": {},
            "cell_type": "markdown",
            "id": "42352132",
            "metadata": {},
            "source": [
                "### Init"
            ]
        },
        {
            "cell_type": "code",
            "execution_count": null,
            "id": "7d7f0961",
            "metadata": {},
            "outputs": [
                {
                    "data": {
                        "text/plain": [
                            "10634"
                        ]
                    },
                    "execution_count": 23,
                    "metadata": {},
                    "output_type": "execute_result"
                }
            ],
            "source": [
                "# configuration\n",
                "_config = {\n",
                "    \"n_features\": 121,\n",
                "    \"base_channels\": 4,\n",
                "    \"activation\": \"sigmoid\",\n",
                "    \"batch_size\": 64,\n",
                "    \"epochs\": 500,\n",
                "    \"decay_after\": 100,\n",
                "    \"patience\": 16,  # terminate after \"patience\" iterations without improvement\n",
                "    \"lr\": 0.001,  # default value\n",
                "    \"weight_decay\": 1e-4,\n",
                "    \"betas\": (0.9, 0.999),  # default value\n",
                "    \"use_fe\": True,\n",
                "    \"use_dropout\": False,\n",
                "    \"use_bn\": False,\n",
                "}\n",
                "\n",
                "# dot access\n",
                "config = dotdict(_config)\n",
                "\n",
                "# ## define the model\n",
                "MODEL_NAME = \"cnn_baseline.pth\"\n",
                "model = CNN_baseline_complex_fe(\n",
                "    n_features=config.n_features,\n",
                "    base_channels=config.base_channels,\n",
                "    device=device,\n",
                "    activation_fn=dict_act_complex[config.activation],\n",
                "    use_fe=config.use_fe,\n",
                "    use_dropout=config.use_dropout,\n",
                "    use_bn=config.use_bn,\n",
                ").to(device)\n",
                "# summary(model, input_size=(1, 242)) # somethings wrong with this\n",
                "count_parameters(model)\n"
            ]
        },
        {
            "cell_type": "code",
            "execution_count": null,
            "id": "be2f482c",
            "metadata": {},
            "outputs": [],
            "source": [
                "# save config\n",
                "config_save_path = os.path.join(SAVED_IN, MODEL_NAME).replace(\"pth\", \"config\")\n",
                "with open(config_save_path, \"wb\") as f:\n",
                "    pickle.dump(_config, f, pickle.HIGHEST_PROTOCOL)\n"
            ]
        },
        {
            "cell_type": "code",
            "execution_count": null,
            "id": "2914f225",
            "metadata": {},
            "outputs": [],
            "source": [
                "## Initialize the NN\n",
                "def weights_init(m):\n",
                "    \"\"\"Function for initializing all model weights\"\"\"\n",
                "    if isinstance(m, nn.Linear):\n",
                "        nn.init.xavier_uniform_(m.weight)\n",
                "\n",
                "\n",
                "## define the optimizer and scheduler\n",
                "def lr_lambda(epoch, epochs=config.epochs, decay_after=config.decay_after):\n",
                "    \"\"\"Function for scheduling learning\"\"\"\n",
                "    return (\n",
                "        1.0\n",
                "        if epoch < decay_after\n",
                "        else 1 - float(epoch - decay_after) / (epochs - decay_after)\n",
                "    )\n",
                "\n",
                "\n",
                "model.to(device).apply(weights_init)\n",
                "optimizer = torch.optim.AdamW(\n",
                "    model.parameters(),\n",
                "    lr=config.lr,\n",
                "    betas=config.betas,\n",
                "    weight_decay=config.weight_decay,\n",
                ") \n",
                "scheduler = torch.optim.lr_scheduler.LambdaLR(optimizer, lr_lambda)\n",
                "loss_fn = nn.MSELoss()\n"
            ]
        },
        {
            "cell_type": "code",
            "execution_count": null,
            "id": "20a69c40",
            "metadata": {},
            "outputs": [],
            "source": [
                "## define the Dataloaders\n",
                "train_dataloader = get_dataloader(\n",
                "    is_train=True, batch_size=config.batch_size, x=X_train_scaled, y=y_train\n",
                ")\n",
                "test_dataloader = get_dataloader(\n",
                "    is_train=False, batch_size=2048, x=X_test_scaled, y=y_test\n",
                ")\n",
                "TEST_dataloader = get_dataloader(\n",
                "    is_train=False, batch_size=2048, x=X_TEST_scaled, y=y_TEST\n",
                ")\n"
            ]
        },
        {
            "attachments": {},
            "cell_type": "markdown",
            "id": "82d3b2c8",
            "metadata": {},
            "source": [
                "### Training"
            ]
        },
        {
            "cell_type": "code",
            "execution_count": null,
            "id": "0e60f234",
            "metadata": {},
            "outputs": [
                {
                    "data": {
                        "application/vnd.jupyter.widget-view+json": {
                            "model_id": "8682847294294678b6a88d0e856eea77",
                            "version_major": 2,
                            "version_minor": 0
                        },
                        "text/plain": [
                            "  0%|          | 0/500 [00:00<?, ?it/s]"
                        ]
                    },
                    "metadata": {},
                    "output_type": "display_data"
                },
                {
                    "name": "stderr",
                    "output_type": "stream",
                    "text": [
                        "[W Copy.cpp:244] Warning: Casting complex values to real discards the imaginary part (function operator())\n"
                    ]
                },
                {
                    "name": "stdout",
                    "output_type": "stream",
                    "text": [
                        "epoch : 0, train loss : 965.46, test loss : 859.71, TEST loss : 854.41, lr: 0.0010\n",
                        "epoch : 10, train loss : 42.32, test loss : 27.91, TEST loss : 28.24, lr: 0.0010\n",
                        "epoch : 20, train loss : 5.81, test loss : 5.35, TEST loss : 6.84, lr: 0.0010\n",
                        "epoch : 30, train loss : 3.37, test loss : 2.94, TEST loss : 3.41, lr: 0.0010\n",
                        "epoch : 40, train loss : 2.15, test loss : 1.84, TEST loss : 2.22, lr: 0.0010\n",
                        "epoch : 50, train loss : 1.65, test loss : 2.05, TEST loss : 2.29, lr: 0.0010\n",
                        "epoch : 60, train loss : 1.42, test loss : 1.43, TEST loss : 1.72, lr: 0.0010\n",
                        "epoch : 70, train loss : 1.28, test loss : 1.11, TEST loss : 1.39, lr: 0.0010\n",
                        "epoch : 80, train loss : 1.20, test loss : 1.33, TEST loss : 1.57, lr: 0.0010\n",
                        "epoch : 90, train loss : 1.13, test loss : 1.41, TEST loss : 1.62, lr: 0.0010\n",
                        "epoch : 100, train loss : 1.09, test loss : 1.22, TEST loss : 1.39, lr: 0.0010\n",
                        "Early stopping triggered\n",
                        "The minimal test loss is 0.94 from epoch 84\n",
                        "Training time: 7966.4228 seconds\n"
                    ]
                }
            ],
            "source": [
                "t1 = time.perf_counter()\n",
                "best_loss, best_epoch, train_losses, test_losses, TEST_losses = train_NN(\n",
                "    model,\n",
                "    config,\n",
                "    loss_fn,\n",
                "    optimizer,\n",
                "    scheduler,\n",
                "    train_dataloader,\n",
                "    test_dataloader,\n",
                "    TEST_dataloader,\n",
                "    device,\n",
                "    SAVED_IN,\n",
                "    MODEL_NAME,\n",
                "    writer=SummaryWriter(),\n",
                "    save=False\n",
                ")\n",
                "t2 = time.perf_counter()\n",
                "print(f\"Training time: {t2-t1:0.4f} seconds\")\n"
            ]
        },
        {
            "cell_type": "code",
            "execution_count": null,
            "id": "ced98fb6",
            "metadata": {},
            "outputs": [
                {
                    "data": {
                        "image/png": "[encoded data removed]",
                        "text/plain": [
                            "<Figure size 576x432 with 1 Axes>"
                        ]
                    },
                    "metadata": {
                        "needs_background": "light"
                    },
                    "output_type": "display_data"
                }
            ],
            "source": [
                "plot_3_losses(train_losses, test_losses, TEST_losses)\n"
            ]
        },
        {
            "attachments": {},
            "cell_type": "markdown",
            "id": "b65c0501",
            "metadata": {},
            "source": [
                "### Evaluation"
            ]
        },
        {
            "cell_type": "code",
            "execution_count": null,
            "id": "17fc05e9",
            "metadata": {},
            "outputs": [
                {
                    "data": {
                        "text/plain": [
                            "CNN_baseline_complex_fe(\n",
                            "  (conv1): ComplexConv1d(\n",
                            "    (conv_r): Conv1d(1, 4, kernel_size=(11,), stride=(5,))\n",
                            "    (conv_i): Conv1d(1, 4, kernel_size=(11,), stride=(5,))\n",
                            "  )\n",
                            "  (conv2): ComplexConv1d(\n",
                            "    (conv_r): Conv1d(4, 8, kernel_size=(3,), stride=(2,))\n",
                            "    (conv_i): Conv1d(4, 8, kernel_size=(3,), stride=(2,))\n",
                            "  )\n",
                            "  (conv3): ComplexConv1d(\n",
                            "    (conv_r): Conv1d(8, 16, kernel_size=(3,), stride=(2,))\n",
                            "    (conv_i): Conv1d(8, 16, kernel_size=(3,), stride=(2,))\n",
                            "  )\n",
                            "  (conv4): ComplexConv1d(\n",
                            "    (conv_r): Conv1d(16, 32, kernel_size=(3,), stride=(1,))\n",
                            "    (conv_i): Conv1d(16, 32, kernel_size=(3,), stride=(1,))\n",
                            "  )\n",
                            "  (conv5): ComplexConv1d(\n",
                            "    (conv_r): Conv1d(32, 32, kernel_size=(3,), stride=(1,))\n",
                            "    (conv_i): Conv1d(32, 32, kernel_size=(3,), stride=(1,))\n",
                            "  )\n",
                            "  (fc): Linear(in_features=64, out_features=1, bias=True)\n",
                            "  (conv_block1): Sequential(\n",
                            "    (0): ComplexConv1d(\n",
                            "      (conv_r): Conv1d(1, 4, kernel_size=(11,), stride=(5,))\n",
                            "      (conv_i): Conv1d(1, 4, kernel_size=(11,), stride=(5,))\n",
                            "    )\n",
                            "    (1): ComplexSigmoid()\n",
                            "  )\n",
                            "  (conv_block2): Sequential(\n",
                            "    (0): ComplexConv1d(\n",
                            "      (conv_r): Conv1d(4, 8, kernel_size=(3,), stride=(2,))\n",
                            "      (conv_i): Conv1d(4, 8, kernel_size=(3,), stride=(2,))\n",
                            "    )\n",
                            "    (1): ComplexSigmoid()\n",
                            "  )\n",
                            "  (conv_block3): Sequential(\n",
                            "    (0): ComplexConv1d(\n",
                            "      (conv_r): Conv1d(8, 16, kernel_size=(3,), stride=(2,))\n",
                            "      (conv_i): Conv1d(8, 16, kernel_size=(3,), stride=(2,))\n",
                            "    )\n",
                            "    (1): ComplexSigmoid()\n",
                            "  )\n",
                            "  (conv_block4): Sequential(\n",
                            "    (0): ComplexConv1d(\n",
                            "      (conv_r): Conv1d(16, 32, kernel_size=(3,), stride=(1,))\n",
                            "      (conv_i): Conv1d(16, 32, kernel_size=(3,), stride=(1,))\n",
                            "    )\n",
                            "    (1): ComplexSigmoid()\n",
                            "  )\n",
                            "  (conv_block5): Sequential(\n",
                            "    (0): ComplexConv1d(\n",
                            "      (conv_r): Conv1d(32, 32, kernel_size=(3,), stride=(1,))\n",
                            "      (conv_i): Conv1d(32, 32, kernel_size=(3,), stride=(1,))\n",
                            "    )\n",
                            "    (1): ComplexSigmoid()\n",
                            "  )\n",
                            ")"
                        ]
                    },
                    "execution_count": 14,
                    "metadata": {},
                    "output_type": "execute_result"
                }
            ],
            "source": [
                "model.load_state_dict(torch.load(os.path.join(SAVED_IN, MODEL_NAME), map_location=device))\n",
                "model.to(device)\n",
                "model.eval()\n"
            ]
        },
        {
            "cell_type": "code",
            "execution_count": null,
            "id": "576bab44",
            "metadata": {},
            "outputs": [
                {
                    "name": "stdout",
                    "output_type": "stream",
                    "text": [
                        "train RMSE: 0.73 mm\n",
                        "test RMSE: 0.73 mm\n",
                        "TEST RMSE: 1.02 mm\n"
                    ]
                }
            ],
            "source": [
                "# evaluation on  training, test and TEST set on 3080\n",
                "\n",
                "\n",
                "with torch.no_grad():\n",
                "    y_ = model(torch.from_numpy(np.expand_dims(X_scaled,1)).to(device)).cpu().numpy().squeeze()\n",
                "    y_TEST_ = model(torch.from_numpy(X_TEST_scaled).to(device)).cpu().numpy().squeeze()\n",
                "y_train_ = y_[idx_train]\n",
                "y_test_ = y_[idx_test]\n",
                "\n",
                "RMSE_test_final_mm = np.sqrt(mean_squared_error(y_test, y_test_))\n",
                "RMSE_train_final_mm = np.sqrt(mean_squared_error(y_train, y_train_))\n",
                "RMSE_TEST_final_mm = np.sqrt(mean_squared_error(y_TEST, y_TEST_))\n",
                "\n",
                "print(f\"train RMSE: {RMSE_train_final_mm:.2f} mm\")\n",
                "print(f\"test RMSE: {RMSE_test_final_mm:.2f} mm\")\n",
                "print(f\"TEST RMSE: {RMSE_TEST_final_mm:.2f} mm\")"
            ]
        },
        {
            "cell_type": "code",
            "execution_count": null,
            "id": "4dbe6aa8",
            "metadata": {},
            "outputs": [
                {
                    "data": {
                        "image/png": "[encoded data removed]",
                        "text/plain": [
                            "<Figure size 864x720 with 1 Axes>"
                        ]
                    },
                    "metadata": {
                        "needs_background": "light"
                    },
                    "output_type": "display_data"
                }
            ],
            "source": [
                "plot_gt_pre_overlap(y_TEST, y_TEST_)\n"
            ]
        },
        {
            "cell_type": "code",
            "execution_count": null,
            "id": "8f1d1a04",
            "metadata": {
                "scrolled": false
            },
            "outputs": [
                {
                    "data": {
                        "image/png": "[encoded data removed]",
                        "text/plain": [
                            "<Figure size 864x576 with 1 Axes>"
                        ]
                    },
                    "metadata": {
                        "needs_background": "light"
                    },
                    "output_type": "display_data"
                }
            ],
            "source": [
                "F = 54000\n",
                "L = F + 10000\n",
                "plot_one_gt_train_test(\n",
                "    Y, y_, idx_train_sort, idx_test_sort, F, L, \"Predictions of Position in mm\"\n",
                ")\n"
            ]
        },
        {
            "attachments": {},
            "cell_type": "markdown",
            "metadata": {},
            "source": [
                "## KFold training"
            ]
        },
        {
            "cell_type": "code",
            "execution_count": null,
            "id": "7d7f0961",
            "metadata": {},
            "outputs": [],
            "source": [
                "# configuration\n",
                "_config = {\n",
                "    \"n_features\": 121,\n",
                "    \"base_channels\": 4,\n",
                "    \"activation\": \"sigmoid\",\n",
                "    \"batch_size\": 64,\n",
                "    \"epochs\": 500,\n",
                "    \"decay_after\": 100,\n",
                "    \"patience\": 16,  # terminate after \"patience\" iterations without improvement\n",
                "    \"lr\": 0.001,  # default value\n",
                "    \"weight_decay\": 1e-4,\n",
                "    \"betas\": (0.9, 0.999),  # default value\n",
                "    \"use_fe\": True,\n",
                "    \"use_dropout\": False,\n",
                "    \"use_bn\": False,\n",
                "}\n",
                "# dot access\n",
                "config = dotdict(_config)\n",
                "\n",
                "## Initialize the NN\n",
                "def weights_init(m):\n",
                "    \"\"\"Function for initializing all model weights\"\"\"\n",
                "    if isinstance(m, nn.Linear):\n",
                "        nn.init.xavier_uniform_(m.weight)\n",
                "\n",
                "\n",
                "## define the optimizer and scheduler\n",
                "def lr_lambda(epoch, epochs=config.epochs, decay_after=config.decay_after):\n",
                "    \"\"\"Function for scheduling learning\"\"\"\n",
                "    return (\n",
                "        1.0\n",
                "        if epoch < decay_after\n",
                "        else 1 - float(epoch - decay_after) / (epochs - decay_after)\n",
                "    )"
            ]
        },
        {
            "attachments": {},
            "cell_type": "markdown",
            "metadata": {},
            "source": [
                "### First run"
            ]
        },
        {
            "cell_type": "code",
            "execution_count": null,
            "metadata": {},
            "outputs": [
                {
                    "name": "stdout",
                    "output_type": "stream",
                    "text": [
                        "\n",
                        "Training fold 1/5...\n"
                    ]
                },
                {
                    "data": {
                        "application/vnd.jupyter.widget-view+json": {
                            "model_id": "0da16bd7dc29452483f01073c471a3b9",
                            "version_major": 2,
                            "version_minor": 0
                        },
                        "text/plain": [
                            "  0%|          | 0/500 [00:00<?, ?it/s]"
                        ]
                    },
                    "metadata": {},
                    "output_type": "display_data"
                },
                {
                    "name": "stderr",
                    "output_type": "stream",
                    "text": [
                        "[W Copy.cpp:244] Warning: Casting complex values to real discards the imaginary part (function operator())\n"
                    ]
                },
                {
                    "name": "stdout",
                    "output_type": "stream",
                    "text": [
                        "epoch : 0, train loss : 965.52, test loss : 859.10, TEST loss : 854.36, lr: 0.0010\n",
                        "epoch : 10, train loss : 47.93, test loss : 30.57, TEST loss : 28.94, lr: 0.0010\n",
                        "epoch : 20, train loss : 4.00, test loss : 3.51, TEST loss : 4.94, lr: 0.0010\n",
                        "epoch : 30, train loss : 2.28, test loss : 2.15, TEST loss : 3.48, lr: 0.0010\n",
                        "epoch : 40, train loss : 1.72, test loss : 1.66, TEST loss : 2.88, lr: 0.0010\n",
                        "epoch : 50, train loss : 1.44, test loss : 1.48, TEST loss : 2.11, lr: 0.0010\n",
                        "epoch : 60, train loss : 1.29, test loss : 1.33, TEST loss : 2.05, lr: 0.0010\n",
                        "epoch : 70, train loss : 1.21, test loss : 1.25, TEST loss : 1.80, lr: 0.0010\n",
                        "epoch : 80, train loss : 1.15, test loss : 1.15, TEST loss : 1.67, lr: 0.0010\n",
                        "epoch : 90, train loss : 1.09, test loss : 1.29, TEST loss : 1.70, lr: 0.0010\n",
                        "epoch : 100, train loss : 1.05, test loss : 1.13, TEST loss : 1.51, lr: 0.0010\n",
                        "epoch : 110, train loss : 1.01, test loss : 0.88, TEST loss : 1.34, lr: 0.0010\n",
                        "Early stopping triggered\n",
                        "The minimal test loss is 0.82 from epoch 96\n",
                        "Training time: 9087.6999 seconds\n",
                        "\n",
                        "Evaluating fold 1/5...\n",
                        "train RMSE: 0.96 mm\n",
                        "test RMSE: 0.97 mm\n",
                        "TEST RMSE: 1.44 mm\n",
                        "\n",
                        "Training fold 2/5...\n"
                    ]
                },
                {
                    "data": {
                        "application/vnd.jupyter.widget-view+json": {
                            "model_id": "c2810116a8f44b4180a88447b3810618",
                            "version_major": 2,
                            "version_minor": 0
                        },
                        "text/plain": [
                            "  0%|          | 0/500 [00:00<?, ?it/s]"
                        ]
                    },
                    "metadata": {},
                    "output_type": "display_data"
                },
                {
                    "name": "stdout",
                    "output_type": "stream",
                    "text": [
                        "epoch : 0, train loss : 970.06, test loss : 865.75, TEST loss : 860.51, lr: 0.0010\n",
                        "epoch : 10, train loss : 78.89, test loss : 60.09, TEST loss : 57.67, lr: 0.0010\n",
                        "epoch : 20, train loss : 6.34, test loss : 5.94, TEST loss : 6.96, lr: 0.0010\n",
                        "epoch : 30, train loss : 3.38, test loss : 3.18, TEST loss : 3.69, lr: 0.0010\n",
                        "epoch : 40, train loss : 2.36, test loss : 2.07, TEST loss : 2.40, lr: 0.0010\n",
                        "epoch : 50, train loss : 1.88, test loss : 1.74, TEST loss : 2.00, lr: 0.0010\n",
                        "epoch : 60, train loss : 1.59, test loss : 1.57, TEST loss : 1.84, lr: 0.0010\n",
                        "epoch : 70, train loss : 1.41, test loss : 1.50, TEST loss : 1.66, lr: 0.0010\n",
                        "epoch : 80, train loss : 1.29, test loss : 1.20, TEST loss : 1.43, lr: 0.0010\n",
                        "epoch : 90, train loss : 1.22, test loss : 1.64, TEST loss : 1.78, lr: 0.0010\n",
                        "epoch : 100, train loss : 1.16, test loss : 1.00, TEST loss : 1.17, lr: 0.0010\n",
                        "epoch : 110, train loss : 1.11, test loss : 1.15, TEST loss : 1.28, lr: 0.0010\n",
                        "epoch : 120, train loss : 1.07, test loss : 0.96, TEST loss : 1.19, lr: 0.0009\n",
                        "epoch : 130, train loss : 1.01, test loss : 1.08, TEST loss : 1.25, lr: 0.0009\n",
                        "epoch : 140, train loss : 0.99, test loss : 1.15, TEST loss : 1.28, lr: 0.0009\n",
                        "Early stopping triggered\n",
                        "The minimal test loss is 0.80 from epoch 128\n",
                        "Training time: 11498.1560 seconds\n",
                        "\n",
                        "Evaluating fold 2/5...\n",
                        "train RMSE: 1.10 mm\n",
                        "test RMSE: 1.10 mm\n",
                        "TEST RMSE: 1.28 mm\n",
                        "\n",
                        "Training fold 3/5...\n"
                    ]
                },
                {
                    "data": {
                        "application/vnd.jupyter.widget-view+json": {
                            "model_id": "07a4979d47cd44fd95f72dafb53ff467",
                            "version_major": 2,
                            "version_minor": 0
                        },
                        "text/plain": [
                            "  0%|          | 0/500 [00:00<?, ?it/s]"
                        ]
                    },
                    "metadata": {},
                    "output_type": "display_data"
                },
                {
                    "name": "stdout",
                    "output_type": "stream",
                    "text": [
                        "epoch : 0, train loss : 974.17, test loss : 871.80, TEST loss : 868.31, lr: 0.0010\n",
                        "epoch : 10, train loss : 103.59, test loss : 80.71, TEST loss : 77.87, lr: 0.0010\n",
                        "epoch : 20, train loss : 7.18, test loss : 7.02, TEST loss : 8.96, lr: 0.0010\n",
                        "epoch : 30, train loss : 4.11, test loss : 3.88, TEST loss : 4.53, lr: 0.0010\n",
                        "epoch : 40, train loss : 2.76, test loss : 2.52, TEST loss : 3.10, lr: 0.0010\n",
                        "epoch : 50, train loss : 2.03, test loss : 1.85, TEST loss : 2.48, lr: 0.0010\n",
                        "epoch : 60, train loss : 1.65, test loss : 1.49, TEST loss : 2.03, lr: 0.0010\n",
                        "epoch : 70, train loss : 1.42, test loss : 1.33, TEST loss : 1.81, lr: 0.0010\n",
                        "epoch : 80, train loss : 1.28, test loss : 1.26, TEST loss : 1.71, lr: 0.0010\n",
                        "epoch : 90, train loss : 1.19, test loss : 1.11, TEST loss : 1.51, lr: 0.0010\n",
                        "epoch : 100, train loss : 1.11, test loss : 1.14, TEST loss : 1.42, lr: 0.0010\n",
                        "epoch : 110, train loss : 1.05, test loss : 1.03, TEST loss : 1.32, lr: 0.0010\n",
                        "epoch : 120, train loss : 0.98, test loss : 1.02, TEST loss : 1.33, lr: 0.0009\n",
                        "epoch : 130, train loss : 0.94, test loss : 0.92, TEST loss : 1.31, lr: 0.0009\n",
                        "epoch : 140, train loss : 0.90, test loss : 0.96, TEST loss : 1.28, lr: 0.0009\n",
                        "epoch : 150, train loss : 0.87, test loss : 0.83, TEST loss : 1.15, lr: 0.0009\n",
                        "epoch : 160, train loss : 0.83, test loss : 0.79, TEST loss : 1.21, lr: 0.0008\n",
                        "epoch : 170, train loss : 0.80, test loss : 0.79, TEST loss : 1.13, lr: 0.0008\n",
                        "epoch : 180, train loss : 0.77, test loss : 0.82, TEST loss : 1.24, lr: 0.0008\n",
                        "epoch : 190, train loss : 0.74, test loss : 0.60, TEST loss : 1.16, lr: 0.0008\n",
                        "epoch : 200, train loss : 0.73, test loss : 0.62, TEST loss : 1.09, lr: 0.0008\n",
                        "Early stopping triggered\n",
                        "The minimal test loss is 0.60 from epoch 190\n",
                        "Training time: 16507.1168 seconds\n",
                        "\n",
                        "Evaluating fold 3/5...\n",
                        "train RMSE: 0.60 mm\n",
                        "test RMSE: 0.60 mm\n",
                        "TEST RMSE: 1.09 mm\n",
                        "\n",
                        "Training fold 4/5...\n"
                    ]
                },
                {
                    "data": {
                        "application/vnd.jupyter.widget-view+json": {
                            "model_id": "57850019acd5481abab85e7e442e7f4e",
                            "version_major": 2,
                            "version_minor": 0
                        },
                        "text/plain": [
                            "  0%|          | 0/500 [00:00<?, ?it/s]"
                        ]
                    },
                    "metadata": {},
                    "output_type": "display_data"
                },
                {
                    "name": "stdout",
                    "output_type": "stream",
                    "text": [
                        "epoch : 0, train loss : 971.66, test loss : 873.01, TEST loss : 866.17, lr: 0.0010\n",
                        "epoch : 10, train loss : 54.14, test loss : 38.58, TEST loss : 37.11, lr: 0.0010\n",
                        "epoch : 20, train loss : 8.95, test loss : 8.01, TEST loss : 11.19, lr: 0.0010\n",
                        "epoch : 30, train loss : 6.17, test loss : 5.59, TEST loss : 7.81, lr: 0.0010\n",
                        "epoch : 40, train loss : 4.51, test loss : 5.22, TEST loss : 5.76, lr: 0.0010\n",
                        "epoch : 50, train loss : 3.40, test loss : 3.59, TEST loss : 4.75, lr: 0.0010\n",
                        "epoch : 60, train loss : 2.67, test loss : 2.86, TEST loss : 3.59, lr: 0.0010\n",
                        "epoch : 70, train loss : 2.19, test loss : 2.05, TEST loss : 2.96, lr: 0.0010\n",
                        "epoch : 80, train loss : 1.83, test loss : 1.83, TEST loss : 2.45, lr: 0.0010\n",
                        "epoch : 90, train loss : 1.62, test loss : 1.37, TEST loss : 2.06, lr: 0.0010\n",
                        "epoch : 100, train loss : 1.48, test loss : 1.73, TEST loss : 2.13, lr: 0.0010\n",
                        "epoch : 110, train loss : 1.36, test loss : 1.28, TEST loss : 1.95, lr: 0.0010\n",
                        "epoch : 120, train loss : 1.26, test loss : 1.21, TEST loss : 2.20, lr: 0.0009\n",
                        "epoch : 130, train loss : 1.18, test loss : 1.29, TEST loss : 2.84, lr: 0.0009\n",
                        "epoch : 140, train loss : 1.14, test loss : 1.38, TEST loss : 2.22, lr: 0.0009\n",
                        "epoch : 150, train loss : 1.08, test loss : 1.18, TEST loss : 2.31, lr: 0.0009\n",
                        "epoch : 160, train loss : 1.03, test loss : 1.25, TEST loss : 2.23, lr: 0.0008\n",
                        "epoch : 170, train loss : 1.00, test loss : 0.96, TEST loss : 1.79, lr: 0.0008\n",
                        "epoch : 180, train loss : 0.96, test loss : 0.89, TEST loss : 1.67, lr: 0.0008\n",
                        "epoch : 190, train loss : 0.92, test loss : 0.90, TEST loss : 1.73, lr: 0.0008\n",
                        "epoch : 200, train loss : 0.91, test loss : 0.91, TEST loss : 1.47, lr: 0.0008\n",
                        "epoch : 210, train loss : 0.87, test loss : 0.86, TEST loss : 1.35, lr: 0.0007\n",
                        "epoch : 220, train loss : 0.86, test loss : 0.84, TEST loss : 1.41, lr: 0.0007\n",
                        "epoch : 230, train loss : 0.84, test loss : 0.97, TEST loss : 1.44, lr: 0.0007\n",
                        "epoch : 240, train loss : 0.80, test loss : 0.82, TEST loss : 1.18, lr: 0.0007\n",
                        "epoch : 250, train loss : 0.78, test loss : 0.84, TEST loss : 1.24, lr: 0.0006\n",
                        "epoch : 260, train loss : 0.77, test loss : 0.72, TEST loss : 1.21, lr: 0.0006\n",
                        "epoch : 270, train loss : 0.75, test loss : 0.80, TEST loss : 1.35, lr: 0.0006\n",
                        "Early stopping triggered\n",
                        "The minimal test loss is 0.65 from epoch 263\n",
                        "Training time: 22108.2616 seconds\n",
                        "\n",
                        "Evaluating fold 4/5...\n",
                        "train RMSE: 0.72 mm\n",
                        "test RMSE: 0.73 mm\n",
                        "TEST RMSE: 1.20 mm\n",
                        "\n",
                        "Training fold 5/5...\n"
                    ]
                },
                {
                    "data": {
                        "application/vnd.jupyter.widget-view+json": {
                            "model_id": "de4d8325a03d4c45a73ce0f94e4cfaee",
                            "version_major": 2,
                            "version_minor": 0
                        },
                        "text/plain": [
                            "  0%|          | 0/500 [00:00<?, ?it/s]"
                        ]
                    },
                    "metadata": {},
                    "output_type": "display_data"
                },
                {
                    "name": "stdout",
                    "output_type": "stream",
                    "text": [
                        "epoch : 0, train loss : 976.21, test loss : 873.89, TEST loss : 871.86, lr: 0.0010\n",
                        "epoch : 10, train loss : 7.33, test loss : 6.61, TEST loss : 6.99, lr: 0.0010\n",
                        "epoch : 20, train loss : 2.72, test loss : 2.84, TEST loss : 2.77, lr: 0.0010\n",
                        "epoch : 30, train loss : 1.72, test loss : 1.84, TEST loss : 1.91, lr: 0.0010\n",
                        "epoch : 40, train loss : 1.35, test loss : 1.49, TEST loss : 1.63, lr: 0.0010\n",
                        "epoch : 50, train loss : 1.15, test loss : 1.11, TEST loss : 1.25, lr: 0.0010\n",
                        "epoch : 60, train loss : 1.04, test loss : 1.02, TEST loss : 1.16, lr: 0.0010\n",
                        "epoch : 70, train loss : 0.96, test loss : 0.96, TEST loss : 1.13, lr: 0.0010\n",
                        "epoch : 80, train loss : 0.90, test loss : 1.02, TEST loss : 1.25, lr: 0.0010\n",
                        "epoch : 90, train loss : 0.86, test loss : 0.91, TEST loss : 1.05, lr: 0.0010\n",
                        "epoch : 100, train loss : 0.82, test loss : 0.82, TEST loss : 1.00, lr: 0.0010\n",
                        "epoch : 110, train loss : 0.79, test loss : 0.75, TEST loss : 0.91, lr: 0.0010\n",
                        "epoch : 120, train loss : 0.75, test loss : 0.80, TEST loss : 1.02, lr: 0.0009\n",
                        "epoch : 130, train loss : 0.73, test loss : 0.71, TEST loss : 0.87, lr: 0.0009\n",
                        "epoch : 140, train loss : 0.69, test loss : 0.74, TEST loss : 0.93, lr: 0.0009\n",
                        "epoch : 150, train loss : 0.68, test loss : 0.63, TEST loss : 0.86, lr: 0.0009\n",
                        "epoch : 160, train loss : 0.65, test loss : 0.57, TEST loss : 0.76, lr: 0.0008\n",
                        "epoch : 170, train loss : 0.63, test loss : 0.62, TEST loss : 0.82, lr: 0.0008\n",
                        "epoch : 180, train loss : 0.62, test loss : 0.62, TEST loss : 0.82, lr: 0.0008\n",
                        "epoch : 190, train loss : 0.60, test loss : 0.63, TEST loss : 0.84, lr: 0.0008\n",
                        "epoch : 200, train loss : 0.58, test loss : 0.55, TEST loss : 0.72, lr: 0.0008\n",
                        "epoch : 210, train loss : 0.57, test loss : 0.53, TEST loss : 0.76, lr: 0.0007\n",
                        "epoch : 220, train loss : 0.56, test loss : 0.49, TEST loss : 0.67, lr: 0.0007\n",
                        "epoch : 230, train loss : 0.54, test loss : 0.52, TEST loss : 0.70, lr: 0.0007\n",
                        "Early stopping triggered\n",
                        "The minimal test loss is 0.49 from epoch 220\n",
                        "Training time: 18978.6873 seconds\n",
                        "\n",
                        "Evaluating fold 5/5...\n",
                        "train RMSE: 0.59 mm\n",
                        "test RMSE: 0.59 mm\n",
                        "TEST RMSE: 0.78 mm\n"
                    ]
                }
            ],
            "source": [
                "from sklearn.model_selection import KFold\n",
                "kf = KFold(n_splits=5, shuffle=True, random_state=42)\n",
                "RMSE_test = []\n",
                "RMSE_train = []\n",
                "RMSE_TEST = []\n",
                "MODEL_NAME = 'kfold.pth'\n",
                "for i, (idx_train, idx_test) in enumerate(kf.split(X)):\n",
                "    X_train = X[idx_train]\n",
                "    X_test = X[idx_test]\n",
                "    # norm\n",
                "    X_train_scaled, X_train_mean, X_train_std = complex_normalize(X_train)\n",
                "    X_test_scaled, X_test_mean, X_test_std = complex_normalize(X_test, X_train_mean, X_train_std)\n",
                "    X_TEST_scaled, X_TEST_mean, X_TEST_std = complex_normalize(X_TEST, X_train_mean, X_train_std)\n",
                "\n",
                "    X_scaled = np.zeros_like(X)\n",
                "    X_scaled[idx_train] = X_train_scaled\n",
                "    X_scaled[idx_test] = X_test_scaled\n",
                "\n",
                "    y_train = Y[idx_train].reshape(-1, 1)  # reshape to (N,1)\n",
                "    y_test = Y[idx_test].reshape(-1, 1)  # reshape to (N,1)\n",
                "    y_TEST = y_TEST.reshape(-1, 1)  # reshape to (N,1)\n",
                "\n",
                "    # add channel dimension for CNN\n",
                "    X_train_scaled = np.expand_dims(X_train_scaled,1)\n",
                "    X_test_scaled = np.expand_dims(X_test_scaled,1)\n",
                "    X_TEST_scaled = np.expand_dims(X_TEST_scaled,1)\n",
                "\n",
                "    ## define the Dataloaders\n",
                "    train_dataloader = get_dataloader(\n",
                "        is_train=True, batch_size=config.batch_size, x=X_train_scaled, y=y_train\n",
                "    )\n",
                "    test_dataloader = get_dataloader(\n",
                "        is_train=False, batch_size=2048, x=X_test_scaled, y=y_test\n",
                "    )\n",
                "    TEST_dataloader = get_dataloader(\n",
                "        is_train=False, batch_size=2048, x=X_TEST_scaled, y=y_TEST\n",
                "    )\n",
                "\n",
                "    # define the model\n",
                "    model = CNN_baseline_complex_fe(\n",
                "        n_features=config.n_features,\n",
                "        base_channels=config.base_channels,\n",
                "        device=device,\n",
                "        activation_fn=dict_act_complex[config.activation],\n",
                "        use_fe=config.use_fe,\n",
                "        use_dropout=config.use_dropout,\n",
                "        use_bn=config.use_bn,\n",
                "    )\n",
                "    model.to(device).apply(weights_init)\n",
                "    optimizer = torch.optim.AdamW(\n",
                "        model.parameters(),\n",
                "        lr=config.lr,\n",
                "        betas=config.betas,\n",
                "        weight_decay=config.weight_decay,\n",
                "    ) \n",
                "    scheduler = torch.optim.lr_scheduler.LambdaLR(optimizer, lr_lambda)\n",
                "    loss_fn = nn.MSELoss()\n",
                "    # training\n",
                "    print(f\"\\nTraining fold {i+1}/{kf.n_splits}...\")\n",
                "    t1 = time.perf_counter()\n",
                "    best_loss, best_epoch, train_losses, test_losses, TEST_losses = train_NN(\n",
                "        model,\n",
                "        config,\n",
                "        loss_fn,\n",
                "        optimizer,\n",
                "        scheduler,\n",
                "        train_dataloader,\n",
                "        test_dataloader,\n",
                "        TEST_dataloader,\n",
                "        device,\n",
                "        SAVED_IN,\n",
                "        MODEL_NAME,\n",
                "        writer=SummaryWriter(),\n",
                "        save=False\n",
                "    )\n",
                "    t2 = time.perf_counter()\n",
                "    print(f\"Training time: {t2-t1:0.4f} seconds\")\n",
                "\n",
                "    # evaluation\n",
                "    print(f\"\\nEvaluating fold {i+1}/{kf.n_splits}...\")\n",
                "    # evaluation on  training, test and TEST set on 3080\n",
                "    with torch.no_grad():\n",
                "        y_ = model(torch.from_numpy(np.expand_dims(X_scaled,1)).to(device)).cpu().numpy().squeeze()\n",
                "        y_TEST_ = model(torch.from_numpy(X_TEST_scaled).to(device)).cpu().numpy().squeeze()\n",
                "    y_train_ = y_[idx_train]\n",
                "    y_test_ = y_[idx_test]\n",
                "\n",
                "    RMSE_test_final_mm = np.sqrt(mean_squared_error(y_test, y_test_))\n",
                "    RMSE_train_final_mm = np.sqrt(mean_squared_error(y_train, y_train_))\n",
                "    RMSE_TEST_final_mm = np.sqrt(mean_squared_error(y_TEST, y_TEST_))\n",
                "\n",
                "    RMSE_test.append(RMSE_test_final_mm)\n",
                "    RMSE_train.append(RMSE_train_final_mm)\n",
                "    RMSE_TEST.append(RMSE_TEST_final_mm)\n",
                "\n",
                "    print(f\"train RMSE: {RMSE_train_final_mm:.2f} mm\")\n",
                "    print(f\"test RMSE: {RMSE_test_final_mm:.2f} mm\")\n",
                "    print(f\"TEST RMSE: {RMSE_TEST_final_mm:.2f} mm\")\n",
                "\n"
            ]
        },
        {
            "cell_type": "code",
            "execution_count": null,
            "metadata": {},
            "outputs": [],
            "source": []
        },
        {
            "cell_type": "code",
            "execution_count": null,
            "metadata": {},
            "outputs": [
                {
                    "data": {
                        "text/plain": [
                            "([0.96706164, 1.0981294, 0.6026267, 0.733786, 0.59171057],\n",
                            " [0.964293, 1.0954883, 0.60117716, 0.72439915, 0.5887938],\n",
                            " [1.4447399, 1.2841794, 1.0943613, 1.1971897, 0.7788998])"
                        ]
                    },
                    "execution_count": 14,
                    "metadata": {},
                    "output_type": "execute_result"
                }
            ],
            "source": [
                "RMSE_test, RMSE_train, RMSE_TEST"
            ]
        },
        {
            "attachments": {},
            "cell_type": "markdown",
            "metadata": {},
            "source": [
                "### Second run"
            ]
        },
        {
            "cell_type": "code",
            "execution_count": 30,
            "metadata": {},
            "outputs": [
                {
                    "name": "stdout",
                    "output_type": "stream",
                    "text": [
                        "\n",
                        "Training fold 1/5...\n"
                    ]
                },
                {
                    "data": {
                        "application/vnd.jupyter.widget-view+json": {
                            "model_id": "c7fd6bf2115f4154b3b33d294bc3461e",
                            "version_major": 2,
                            "version_minor": 0
                        },
                        "text/plain": [
                            "  0%|          | 0/500 [00:00<?, ?it/s]"
                        ]
                    },
                    "metadata": {},
                    "output_type": "display_data"
                },
                {
                    "name": "stderr",
                    "output_type": "stream",
                    "text": [
                        "[W Copy.cpp:244] Warning: Casting complex values to real discards the imaginary part (function operator())\n"
                    ]
                },
                {
                    "name": "stdout",
                    "output_type": "stream",
                    "text": [
                        "epoch : 0, train loss : 964.59, test loss : 857.00, TEST loss : 852.25, lr: 0.0010\n",
                        "epoch : 10, train loss : 79.14, test loss : 59.84, TEST loss : 60.71, lr: 0.0010\n",
                        "epoch : 20, train loss : 8.85, test loss : 8.31, TEST loss : 11.83, lr: 0.0010\n",
                        "epoch : 30, train loss : 5.29, test loss : 4.74, TEST loss : 7.93, lr: 0.0010\n",
                        "epoch : 40, train loss : 3.79, test loss : 3.20, TEST loss : 5.59, lr: 0.0010\n",
                        "epoch : 50, train loss : 2.90, test loss : 2.61, TEST loss : 3.95, lr: 0.0010\n",
                        "epoch : 60, train loss : 2.37, test loss : 2.15, TEST loss : 3.25, lr: 0.0010\n",
                        "epoch : 70, train loss : 2.05, test loss : 1.98, TEST loss : 2.68, lr: 0.0010\n",
                        "epoch : 80, train loss : 1.83, test loss : 3.71, TEST loss : 4.28, lr: 0.0010\n",
                        "epoch : 90, train loss : 1.67, test loss : 1.76, TEST loss : 2.30, lr: 0.0010\n",
                        "epoch : 100, train loss : 1.53, test loss : 1.35, TEST loss : 1.94, lr: 0.0010\n",
                        "epoch : 110, train loss : 1.41, test loss : 1.28, TEST loss : 1.83, lr: 0.0010\n",
                        "Early stopping triggered\n",
                        "The minimal test loss is 1.14 from epoch 102\n",
                        "Training time: 9332.4744 seconds\n",
                        "\n",
                        "Evaluating fold 1/5...\n",
                        "train RMSE: 1.57 mm\n",
                        "test RMSE: 1.57 mm\n",
                        "TEST RMSE: 2.04 mm\n",
                        "\n",
                        "Training fold 2/5...\n"
                    ]
                },
                {
                    "data": {
                        "application/vnd.jupyter.widget-view+json": {
                            "model_id": "7c7e216ba0da42978ead52874af5cb91",
                            "version_major": 2,
                            "version_minor": 0
                        },
                        "text/plain": [
                            "  0%|          | 0/500 [00:00<?, ?it/s]"
                        ]
                    },
                    "metadata": {},
                    "output_type": "display_data"
                },
                {
                    "name": "stdout",
                    "output_type": "stream",
                    "text": [
                        "epoch : 0, train loss : 969.31, test loss : 864.66, TEST loss : 859.43, lr: 0.0010\n",
                        "epoch : 10, train loss : 567.57, test loss : 569.02, TEST loss : 562.66, lr: 0.0010\n",
                        "epoch : 20, train loss : 116.01, test loss : 94.23, TEST loss : 91.10, lr: 0.0010\n",
                        "epoch : 30, train loss : 15.41, test loss : 15.31, TEST loss : 19.00, lr: 0.0010\n",
                        "epoch : 40, train loss : 10.40, test loss : 9.48, TEST loss : 12.70, lr: 0.0010\n",
                        "epoch : 50, train loss : 7.39, test loss : 9.48, TEST loss : 11.21, lr: 0.0010\n",
                        "epoch : 60, train loss : 5.36, test loss : 4.76, TEST loss : 6.34, lr: 0.0010\n",
                        "epoch : 70, train loss : 3.86, test loss : 3.60, TEST loss : 6.06, lr: 0.0010\n",
                        "epoch : 80, train loss : 3.66, test loss : 2.68, TEST loss : 3.90, lr: 0.0010\n",
                        "epoch : 90, train loss : 2.88, test loss : 2.56, TEST loss : 3.82, lr: 0.0010\n",
                        "epoch : 100, train loss : 2.39, test loss : 2.15, TEST loss : 3.84, lr: 0.0010\n",
                        "epoch : 110, train loss : 2.13, test loss : 2.03, TEST loss : 4.00, lr: 0.0010\n",
                        "epoch : 120, train loss : 1.80, test loss : 1.75, TEST loss : 3.30, lr: 0.0009\n",
                        "epoch : 130, train loss : 1.62, test loss : 1.65, TEST loss : 3.99, lr: 0.0009\n",
                        "epoch : 140, train loss : 1.66, test loss : 1.89, TEST loss : 4.02, lr: 0.0009\n",
                        "epoch : 150, train loss : 1.33, test loss : 1.36, TEST loss : 3.28, lr: 0.0009\n",
                        "epoch : 160, train loss : 1.45, test loss : 1.43, TEST loss : 2.89, lr: 0.0008\n",
                        "Early stopping triggered\n",
                        "The minimal test loss is 1.30 from epoch 144\n",
                        "Training time: 13026.9384 seconds\n",
                        "\n",
                        "Evaluating fold 2/5...\n",
                        "train RMSE: 1.57 mm\n",
                        "test RMSE: 1.58 mm\n",
                        "TEST RMSE: 3.63 mm\n",
                        "\n",
                        "Training fold 3/5...\n"
                    ]
                },
                {
                    "data": {
                        "application/vnd.jupyter.widget-view+json": {
                            "model_id": "44470cf51d0040d5856d9e8c5048cb1e",
                            "version_major": 2,
                            "version_minor": 0
                        },
                        "text/plain": [
                            "  0%|          | 0/500 [00:00<?, ?it/s]"
                        ]
                    },
                    "metadata": {},
                    "output_type": "display_data"
                },
                {
                    "name": "stdout",
                    "output_type": "stream",
                    "text": [
                        "epoch : 0, train loss : 973.91, test loss : 870.90, TEST loss : 867.41, lr: 0.0010\n",
                        "epoch : 10, train loss : 33.53, test loss : 28.08, TEST loss : 40.96, lr: 0.0010\n",
                        "epoch : 20, train loss : 10.61, test loss : 10.38, TEST loss : 15.34, lr: 0.0010\n",
                        "epoch : 30, train loss : 5.36, test loss : 4.35, TEST loss : 7.64, lr: 0.0010\n",
                        "epoch : 40, train loss : 3.28, test loss : 3.02, TEST loss : 5.13, lr: 0.0010\n",
                        "epoch : 50, train loss : 2.53, test loss : 3.46, TEST loss : 5.85, lr: 0.0010\n",
                        "epoch : 60, train loss : 2.14, test loss : 2.30, TEST loss : 3.29, lr: 0.0010\n",
                        "epoch : 70, train loss : 1.86, test loss : 1.68, TEST loss : 2.89, lr: 0.0010\n",
                        "epoch : 80, train loss : 1.63, test loss : 1.52, TEST loss : 2.61, lr: 0.0010\n",
                        "epoch : 90, train loss : 1.44, test loss : 1.52, TEST loss : 2.25, lr: 0.0010\n",
                        "epoch : 100, train loss : 1.34, test loss : 1.15, TEST loss : 2.00, lr: 0.0010\n",
                        "epoch : 110, train loss : 1.18, test loss : 1.22, TEST loss : 2.02, lr: 0.0010\n",
                        "epoch : 120, train loss : 1.09, test loss : 0.98, TEST loss : 1.82, lr: 0.0009\n",
                        "epoch : 130, train loss : 1.01, test loss : 1.21, TEST loss : 1.88, lr: 0.0009\n",
                        "epoch : 140, train loss : 0.96, test loss : 0.87, TEST loss : 1.43, lr: 0.0009\n",
                        "epoch : 150, train loss : 0.91, test loss : 0.90, TEST loss : 1.44, lr: 0.0009\n",
                        "epoch : 160, train loss : 0.86, test loss : 0.80, TEST loss : 1.38, lr: 0.0008\n",
                        "epoch : 170, train loss : 0.83, test loss : 0.73, TEST loss : 1.31, lr: 0.0008\n",
                        "epoch : 180, train loss : 0.80, test loss : 0.74, TEST loss : 1.29, lr: 0.0008\n",
                        "epoch : 190, train loss : 0.77, test loss : 0.81, TEST loss : 1.34, lr: 0.0008\n",
                        "epoch : 200, train loss : 0.75, test loss : 0.70, TEST loss : 1.26, lr: 0.0008\n",
                        "epoch : 210, train loss : 0.72, test loss : 0.69, TEST loss : 1.19, lr: 0.0007\n",
                        "epoch : 220, train loss : 0.70, test loss : 0.67, TEST loss : 1.19, lr: 0.0007\n",
                        "epoch : 230, train loss : 0.68, test loss : 0.73, TEST loss : 1.21, lr: 0.0007\n",
                        "epoch : 240, train loss : 0.67, test loss : 0.65, TEST loss : 1.22, lr: 0.0007\n",
                        "epoch : 250, train loss : 0.65, test loss : 0.62, TEST loss : 1.18, lr: 0.0006\n",
                        "epoch : 260, train loss : 0.64, test loss : 0.75, TEST loss : 1.17, lr: 0.0006\n",
                        "epoch : 270, train loss : 0.62, test loss : 0.66, TEST loss : 1.16, lr: 0.0006\n",
                        "epoch : 280, train loss : 0.61, test loss : 0.59, TEST loss : 1.11, lr: 0.0006\n",
                        "epoch : 290, train loss : 0.59, test loss : 0.61, TEST loss : 1.10, lr: 0.0005\n",
                        "epoch : 300, train loss : 0.58, test loss : 0.55, TEST loss : 1.06, lr: 0.0005\n",
                        "Early stopping triggered\n",
                        "The minimal test loss is 0.53 from epoch 292\n",
                        "Training time: 24903.4765 seconds\n",
                        "\n",
                        "Evaluating fold 3/5...\n",
                        "train RMSE: 0.56 mm\n",
                        "test RMSE: 0.55 mm\n",
                        "TEST RMSE: 1.11 mm\n",
                        "\n",
                        "Training fold 4/5...\n"
                    ]
                },
                {
                    "data": {
                        "application/vnd.jupyter.widget-view+json": {
                            "model_id": "e97d14d823c44676b5b140d4a93347be",
                            "version_major": 2,
                            "version_minor": 0
                        },
                        "text/plain": [
                            "  0%|          | 0/500 [00:00<?, ?it/s]"
                        ]
                    },
                    "metadata": {},
                    "output_type": "display_data"
                },
                {
                    "name": "stdout",
                    "output_type": "stream",
                    "text": [
                        "epoch : 0, train loss : 971.31, test loss : 872.77, TEST loss : 865.93, lr: 0.0010\n",
                        "epoch : 10, train loss : 64.29, test loss : 47.67, TEST loss : 50.51, lr: 0.0010\n",
                        "epoch : 20, train loss : 7.44, test loss : 7.90, TEST loss : 9.39, lr: 0.0010\n",
                        "epoch : 30, train loss : 4.48, test loss : 4.08, TEST loss : 6.31, lr: 0.0010\n",
                        "epoch : 40, train loss : 3.19, test loss : 2.87, TEST loss : 4.69, lr: 0.0010\n",
                        "epoch : 50, train loss : 2.44, test loss : 2.24, TEST loss : 3.77, lr: 0.0010\n",
                        "epoch : 60, train loss : 1.99, test loss : 2.10, TEST loss : 3.11, lr: 0.0010\n",
                        "epoch : 70, train loss : 1.64, test loss : 1.61, TEST loss : 2.11, lr: 0.0010\n",
                        "epoch : 80, train loss : 1.44, test loss : 1.20, TEST loss : 1.66, lr: 0.0010\n",
                        "epoch : 90, train loss : 1.29, test loss : 1.43, TEST loss : 1.88, lr: 0.0010\n",
                        "epoch : 100, train loss : 1.20, test loss : 1.22, TEST loss : 1.54, lr: 0.0010\n",
                        "epoch : 110, train loss : 1.12, test loss : 0.93, TEST loss : 1.22, lr: 0.0010\n",
                        "epoch : 120, train loss : 1.06, test loss : 0.88, TEST loss : 1.21, lr: 0.0009\n",
                        "epoch : 130, train loss : 1.02, test loss : 1.00, TEST loss : 1.35, lr: 0.0009\n",
                        "epoch : 140, train loss : 0.97, test loss : 0.80, TEST loss : 1.09, lr: 0.0009\n",
                        "epoch : 150, train loss : 0.93, test loss : 0.91, TEST loss : 1.21, lr: 0.0009\n",
                        "epoch : 160, train loss : 0.90, test loss : 0.94, TEST loss : 1.23, lr: 0.0008\n",
                        "Early stopping triggered\n",
                        "The minimal test loss is 0.76 from epoch 152\n",
                        "Training time: 13481.3601 seconds\n",
                        "\n",
                        "Evaluating fold 4/5...\n",
                        "train RMSE: 0.81 mm\n",
                        "test RMSE: 0.81 mm\n",
                        "TEST RMSE: 1.06 mm\n",
                        "\n",
                        "Training fold 5/5...\n"
                    ]
                },
                {
                    "data": {
                        "application/vnd.jupyter.widget-view+json": {
                            "model_id": "94addab3d85340e0893693623b9f15e6",
                            "version_major": 2,
                            "version_minor": 0
                        },
                        "text/plain": [
                            "  0%|          | 0/500 [00:00<?, ?it/s]"
                        ]
                    },
                    "metadata": {},
                    "output_type": "display_data"
                },
                {
                    "name": "stdout",
                    "output_type": "stream",
                    "text": [
                        "epoch : 0, train loss : 976.58, test loss : 874.73, TEST loss : 872.71, lr: 0.0010\n",
                        "epoch : 10, train loss : 109.50, test loss : 86.61, TEST loss : 82.72, lr: 0.0010\n",
                        "epoch : 20, train loss : 5.21, test loss : 5.02, TEST loss : 5.23, lr: 0.0010\n",
                        "epoch : 30, train loss : 3.02, test loss : 3.02, TEST loss : 3.36, lr: 0.0010\n",
                        "epoch : 40, train loss : 2.09, test loss : 1.88, TEST loss : 2.22, lr: 0.0010\n",
                        "epoch : 50, train loss : 1.58, test loss : 1.41, TEST loss : 1.73, lr: 0.0010\n",
                        "epoch : 60, train loss : 1.32, test loss : 1.54, TEST loss : 1.78, lr: 0.0010\n",
                        "epoch : 70, train loss : 1.16, test loss : 1.13, TEST loss : 1.31, lr: 0.0010\n",
                        "epoch : 80, train loss : 1.04, test loss : 1.19, TEST loss : 1.41, lr: 0.0010\n",
                        "epoch : 90, train loss : 0.96, test loss : 0.87, TEST loss : 1.10, lr: 0.0010\n",
                        "epoch : 100, train loss : 0.89, test loss : 0.78, TEST loss : 1.00, lr: 0.0010\n",
                        "epoch : 110, train loss : 0.84, test loss : 0.85, TEST loss : 1.03, lr: 0.0010\n",
                        "epoch : 120, train loss : 0.78, test loss : 0.73, TEST loss : 0.88, lr: 0.0009\n",
                        "epoch : 130, train loss : 0.75, test loss : 0.74, TEST loss : 0.91, lr: 0.0009\n",
                        "epoch : 140, train loss : 0.70, test loss : 0.73, TEST loss : 0.94, lr: 0.0009\n",
                        "epoch : 150, train loss : 0.67, test loss : 0.73, TEST loss : 0.89, lr: 0.0009\n",
                        "Early stopping triggered\n",
                        "The minimal test loss is 0.62 from epoch 134\n",
                        "Training time: 12102.9985 seconds\n",
                        "\n",
                        "Evaluating fold 5/5...\n",
                        "train RMSE: 0.65 mm\n",
                        "test RMSE: 0.65 mm\n",
                        "TEST RMSE: 0.84 mm\n"
                    ]
                }
            ],
            "source": [
                "from sklearn.model_selection import KFold\n",
                "kf = KFold(n_splits=5, shuffle=True, random_state=42)\n",
                "RMSE_test = []\n",
                "RMSE_train = []\n",
                "RMSE_TEST = []\n",
                "MODEL_NAME = 'kfold.pth'\n",
                "for i, (idx_train, idx_test) in enumerate(kf.split(X)):\n",
                "    X_train = X[idx_train]\n",
                "    X_test = X[idx_test]\n",
                "    # norm\n",
                "    X_train_scaled, X_train_mean, X_train_std = complex_normalize(X_train)\n",
                "    X_test_scaled, X_test_mean, X_test_std = complex_normalize(X_test, X_train_mean, X_train_std)\n",
                "    X_TEST_scaled, X_TEST_mean, X_TEST_std = complex_normalize(X_TEST, X_train_mean, X_train_std)\n",
                "\n",
                "    X_scaled = np.zeros_like(X)\n",
                "    X_scaled[idx_train] = X_train_scaled\n",
                "    X_scaled[idx_test] = X_test_scaled\n",
                "\n",
                "    y_train = Y[idx_train].reshape(-1, 1)  # reshape to (N,1)\n",
                "    y_test = Y[idx_test].reshape(-1, 1)  # reshape to (N,1)\n",
                "    y_TEST = y_TEST.reshape(-1, 1)  # reshape to (N,1)\n",
                "\n",
                "    # add channel dimension for CNN\n",
                "    X_train_scaled = np.expand_dims(X_train_scaled,1)\n",
                "    X_test_scaled = np.expand_dims(X_test_scaled,1)\n",
                "    X_TEST_scaled = np.expand_dims(X_TEST_scaled,1)\n",
                "\n",
                "    ## define the Dataloaders\n",
                "    train_dataloader = get_dataloader(\n",
                "        is_train=True, batch_size=config.batch_size, x=X_train_scaled, y=y_train\n",
                "    )\n",
                "    test_dataloader = get_dataloader(\n",
                "        is_train=False, batch_size=2048, x=X_test_scaled, y=y_test\n",
                "    )\n",
                "    TEST_dataloader = get_dataloader(\n",
                "        is_train=False, batch_size=2048, x=X_TEST_scaled, y=y_TEST\n",
                "    )\n",
                "\n",
                "    # define the model\n",
                "    model = CNN_baseline_complex_fe(\n",
                "        n_features=config.n_features,\n",
                "        base_channels=config.base_channels,\n",
                "        device=device,\n",
                "        activation_fn=dict_act_complex[config.activation],\n",
                "        use_fe=config.use_fe,\n",
                "        use_dropout=config.use_dropout,\n",
                "        use_bn=config.use_bn,\n",
                "    )\n",
                "    model.to(device).apply(weights_init)\n",
                "    optimizer = torch.optim.AdamW(\n",
                "        model.parameters(),\n",
                "        lr=config.lr,\n",
                "        betas=config.betas,\n",
                "        weight_decay=config.weight_decay,\n",
                "    ) \n",
                "    scheduler = torch.optim.lr_scheduler.LambdaLR(optimizer, lr_lambda)\n",
                "    loss_fn = nn.MSELoss()\n",
                "    # training\n",
                "    print(f\"\\nTraining fold {i+1}/{kf.n_splits}...\")\n",
                "    t1 = time.perf_counter()\n",
                "    best_loss, best_epoch, train_losses, test_losses, TEST_losses = train_NN(\n",
                "        model,\n",
                "        config,\n",
                "        loss_fn,\n",
                "        optimizer,\n",
                "        scheduler,\n",
                "        train_dataloader,\n",
                "        test_dataloader,\n",
                "        TEST_dataloader,\n",
                "        device,\n",
                "        SAVED_IN,\n",
                "        MODEL_NAME,\n",
                "        writer=SummaryWriter(),\n",
                "        save=False\n",
                "    )\n",
                "    t2 = time.perf_counter()\n",
                "    print(f\"Training time: {t2-t1:0.4f} seconds\")\n",
                "\n",
                "    # evaluation\n",
                "    print(f\"\\nEvaluating fold {i+1}/{kf.n_splits}...\")\n",
                "    # evaluation on  training, test and TEST set on 3080\n",
                "    with torch.no_grad():\n",
                "        y_ = model(torch.from_numpy(np.expand_dims(X_scaled,1)).to(device)).cpu().numpy().squeeze()\n",
                "        y_TEST_ = model(torch.from_numpy(X_TEST_scaled).to(device)).cpu().numpy().squeeze()\n",
                "    y_train_ = y_[idx_train]\n",
                "    y_test_ = y_[idx_test]\n",
                "\n",
                "    RMSE_test_final_mm = np.sqrt(mean_squared_error(y_test, y_test_))\n",
                "    RMSE_train_final_mm = np.sqrt(mean_squared_error(y_train, y_train_))\n",
                "    RMSE_TEST_final_mm = np.sqrt(mean_squared_error(y_TEST, y_TEST_))\n",
                "\n",
                "    RMSE_test.append(RMSE_test_final_mm)\n",
                "    RMSE_train.append(RMSE_train_final_mm)\n",
                "    RMSE_TEST.append(RMSE_TEST_final_mm)\n",
                "\n",
                "    print(f\"train RMSE: {RMSE_train_final_mm:.2f} mm\")\n",
                "    print(f\"test RMSE: {RMSE_test_final_mm:.2f} mm\")\n",
                "    print(f\"TEST RMSE: {RMSE_TEST_final_mm:.2f} mm\")\n",
                "\n"
            ]
        },
        {
            "cell_type": "code",
            "execution_count": 31,
            "metadata": {},
            "outputs": [
                {
                    "data": {
                        "text/plain": [
                            "([1.5655491, 1.5782703, 0.5540158, 0.8140413, 0.65457433],\n",
                            " [1.5664781, 1.5721391, 0.5555318, 0.8087055, 0.65214205],\n",
                            " [2.0374846, 3.6256301, 1.1144555, 1.0646452, 0.84073764])"
                        ]
                    },
                    "execution_count": 31,
                    "metadata": {},
                    "output_type": "execute_result"
                }
            ],
            "source": [
                "RMSE_test, RMSE_train, RMSE_TEST"
            ]
        },
        {
            "cell_type": "code",
            "execution_count": null,
            "metadata": {},
            "outputs": [],
            "source": []
        }
    ],
    "metadata": {
        "kernelspec": {
            "display_name": "leg",
            "language": "python",
            "name": "python3"
        },
        "language_info": {
            "codemirror_mode": {
                "name": "ipython",
                "version": 3
            },
            "file_extension": ".py",
            "mimetype": "text/x-python",
            "name": "python",
            "nbconvert_exporter": "python",
            "pygments_lexer": "ipython3",
            "version": "3.8.17"
        },
        "orig_nbformat": 4,
        "vscode": {
            "interpreter": {
                "hash": "e33c93526584cbadfe3255d1cdc89181e0e705890fdf40e6106f499ea9b47b68"
            }
        }
    },
    "nbformat": 4,
    "nbformat_minor": 2
}
