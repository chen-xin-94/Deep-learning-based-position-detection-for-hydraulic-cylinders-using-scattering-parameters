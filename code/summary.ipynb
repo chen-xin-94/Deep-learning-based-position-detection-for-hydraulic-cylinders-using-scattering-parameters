{
 "cells": [
  {
   "cell_type": "code",
   "execution_count": 3,
   "id": "93f8e703",
   "metadata": {},
   "outputs": [],
   "source": [
    "from pathlib import Path\n",
    "import numpy as np\n",
    "import matplotlib.pyplot as plt\n",
    "%matplotlib inline\n",
    "import pickle\n",
    "import os\n",
    "import random"
   ]
  },
  {
   "cell_type": "code",
   "execution_count": 4,
   "id": "8f04455f",
   "metadata": {},
   "outputs": [],
   "source": [
    "from sklearn.model_selection import train_test_split\n",
    "from sklearn.metrics import (\n",
    "    mean_squared_error,\n",
    "    mean_absolute_error,\n",
    "    mean_absolute_percentage_error,\n",
    ")\n",
    "from sklearn.preprocessing import StandardScaler\n",
    "\n",
    "import torch\n",
    "from torch import nn\n",
    "from torch.utils.data import DataLoader, Dataset\n",
    "\n",
    "from torch.utils.tensorboard import SummaryWriter"
   ]
  },
  {
   "cell_type": "code",
   "execution_count": 5,
   "id": "352d7f16",
   "metadata": {},
   "outputs": [
    {
     "name": "stdout",
     "output_type": "stream",
     "text": [
      "Using cpu device\n"
     ]
    }
   ],
   "source": [
    "# specify which GPU to use\n",
    "os.environ[\"CUDA_VISIBLE_DEVICES\"]=\"0\"\n",
    "device = \"cuda\" if torch.cuda.is_available() else \"cpu\"\n",
    "print(f\"Using {device} device\")"
   ]
  },
  {
   "cell_type": "code",
   "execution_count": 6,
   "id": "97ca28df",
   "metadata": {},
   "outputs": [],
   "source": [
    "# reproducibility\n",
    "RANDOM_STATE = 0\n",
    "torch.manual_seed(RANDOM_STATE)\n",
    "np.random.seed(RANDOM_STATE)\n",
    "random.seed(RANDOM_STATE)\n"
   ]
  },
  {
   "attachments": {},
   "cell_type": "markdown",
   "id": "bd34a9b1",
   "metadata": {},
   "source": [
    "## Package Loading"
   ]
  },
  {
   "cell_type": "code",
   "execution_count": 7,
   "id": "2b2f7b64",
   "metadata": {},
   "outputs": [],
   "source": [
    "DIR = os.getcwd()\n",
    "if DIR.endswith(\"code\"):\n",
    "    DIR = DIR[:-5]\n",
    "\n",
    "from utils.plot_util import plot_one_gt_train_test, plot_gt_pre_overlap, plot_3_losses\n",
    "from utils.data_util import (\n",
    "    dotdict,\n",
    "    load_pos_s21,\n",
    "    save_pre,\n",
    "    load_pre,\n",
    "    PreprocessedDataset,\n",
    "    get_dataloader,\n",
    ")\n",
    "from utils.nn_util import dict_act, NN, NN_fe, count_parameters,count_parameters_table, CNN_baseline, CNN_baseline_fe\n",
    "from utils.complex_util import dict_act_complex, complex_normalize, NN_complex,NN_complex_concat, NN_complex_fe, NN_complex_fe_concat, CNN_baseline_complex, CNN_baseline_complex_fe\n"
   ]
  },
  {
   "attachments": {},
   "cell_type": "markdown",
   "metadata": {},
   "source": [
    "# real valued NN"
   ]
  },
  {
   "attachments": {},
   "cell_type": "markdown",
   "id": "a047eda0",
   "metadata": {},
   "source": [
    "## Data Extraction"
   ]
  },
  {
   "cell_type": "code",
   "execution_count": 8,
   "id": "aaaf0d32",
   "metadata": {},
   "outputs": [],
   "source": [
    "# load data\n",
    "folder = os.path.join(DIR, \"data\")\n",
    "data_file_name = os.path.join(folder, \"data_offset.pkl\")\n",
    "pos, s21, pos_TEST, s21_TEST = load_pos_s21(data_file_name, 5)\n",
    "\n",
    "X = s21\n",
    "Y = pos\n",
    "\n",
    "X_TEST = s21_TEST\n",
    "y_TEST = pos_TEST\n"
   ]
  },
  {
   "attachments": {},
   "cell_type": "markdown",
   "id": "027f71ec",
   "metadata": {},
   "source": [
    "## Data Preprocessing"
   ]
  },
  {
   "attachments": {},
   "cell_type": "markdown",
   "id": "464b13fc",
   "metadata": {},
   "source": [
    "### Train test split wit indicies"
   ]
  },
  {
   "cell_type": "code",
   "execution_count": 9,
   "id": "72d38d67",
   "metadata": {
    "scrolled": true
   },
   "outputs": [
    {
     "name": "stdout",
     "output_type": "stream",
     "text": [
      "(411257, 242)\n",
      "(411257,)\n",
      "(102815, 242)\n",
      "(102815,)\n"
     ]
    }
   ],
   "source": [
    "indices = np.arange(X.shape[0])\n",
    "X_train, X_test, y_train, y_test, idx_train, idx_test = train_test_split(\n",
    "    X, Y, indices, test_size=0.2, random_state=RANDOM_STATE\n",
    ")\n",
    "idx_train_sort = np.sort(idx_train)\n",
    "idx_test_sort = np.sort(idx_test)\n",
    "\n",
    "print(X_train.shape)\n",
    "print(y_train.shape)\n",
    "print(X_test.shape)\n",
    "print(y_test.shape)\n"
   ]
  },
  {
   "attachments": {},
   "cell_type": "markdown",
   "id": "c16e9cf9",
   "metadata": {},
   "source": [
    "### Normalization"
   ]
  },
  {
   "cell_type": "code",
   "execution_count": 10,
   "id": "a359c8df",
   "metadata": {},
   "outputs": [
    {
     "name": "stdout",
     "output_type": "stream",
     "text": [
      "(411257, 242)\n",
      "(411257, 1)\n",
      "(102815, 242)\n",
      "(102815, 1)\n",
      "(20135, 242)\n",
      "(20135, 1)\n"
     ]
    }
   ],
   "source": [
    "scaler = StandardScaler()\n",
    "scaler.fit(X_train)\n",
    "X_scaled = scaler.transform(X)\n",
    "X_train_scaled = X_scaled[idx_train]\n",
    "X_test_scaled = X_scaled[idx_test]\n",
    "X_TEST_scaled = scaler.transform(X_TEST)\n",
    "\n",
    "y_train = Y[idx_train].reshape(-1, 1)  # reshape to (N,1)\n",
    "y_test = Y[idx_test].reshape(-1, 1)  # reshape to (N,1)\n",
    "y_TEST = y_TEST.reshape(-1, 1)  # reshape to (N,1)\n",
    "\n",
    "print(X_train_scaled.shape)\n",
    "print(y_train.shape)\n",
    "print(X_test_scaled.shape)\n",
    "print(y_test.shape)\n",
    "print(X_TEST_scaled.shape)\n",
    "print(y_TEST.shape)\n"
   ]
  },
  {
   "attachments": {},
   "cell_type": "markdown",
   "metadata": {},
   "source": [
    "## Model Comparison"
   ]
  },
  {
   "attachments": {},
   "cell_type": "markdown",
   "metadata": {},
   "source": [
    "### NN baseline"
   ]
  },
  {
   "cell_type": "code",
   "execution_count": 11,
   "metadata": {},
   "outputs": [
    {
     "data": {
      "text/plain": [
       "{'n_features': 242,\n",
       " 'list_hidden': [32, 16],\n",
       " 'activation': 'sigmoid',\n",
       " 'batch_size': 128,\n",
       " 'epochs': 500,\n",
       " 'decay_after': 100,\n",
       " 'patience': 16,\n",
       " 'lr': 0.001,\n",
       " 'weight_decay': 0.0001,\n",
       " 'betas': (0.9, 0.999),\n",
       " 'use_dropout': False,\n",
       " 'use_bn': False}"
      ]
     },
     "execution_count": 11,
     "metadata": {},
     "output_type": "execute_result"
    }
   ],
   "source": [
    "SAVED_IN = os.path.abspath(DIR + \"/trained_models\" + \"/NN_tuned_nonorm\")\n",
    "MODEL_NAME = \"NN_32-16_sigmoid.pth\"\n",
    "config_save_path = os.path.join(SAVED_IN, MODEL_NAME).replace(\"pth\", \"config\")\n",
    "with open(config_save_path, \"rb\") as f:\n",
    "    _config = pickle.load(f)\n",
    "\n",
    "_config"
   ]
  },
  {
   "cell_type": "code",
   "execution_count": 16,
   "metadata": {},
   "outputs": [
    {
     "data": {
      "text/plain": [
       "NN(\n",
       "  (activation): Sigmoid()\n",
       "  (layers): Sequential(\n",
       "    (0): Linear(in_features=242, out_features=32, bias=True)\n",
       "    (1): Sigmoid()\n",
       "    (2): Linear(in_features=32, out_features=16, bias=True)\n",
       "    (3): Sigmoid()\n",
       "    (4): Linear(in_features=16, out_features=1, bias=True)\n",
       "  )\n",
       ")"
      ]
     },
     "execution_count": 16,
     "metadata": {},
     "output_type": "execute_result"
    }
   ],
   "source": [
    "# dot access\n",
    "config = dotdict(_config)\n",
    "\n",
    "model = NN(\n",
    "    n_features=config.n_features,\n",
    "    list_hidden=config.list_hidden,\n",
    "    activation_fn=dict_act[config.activation],\n",
    "    use_dropout=config.use_dropout,\n",
    "    use_bn=config.use_bn,\n",
    ")\n",
    "\n",
    "model.load_state_dict(torch.load(os.path.join(SAVED_IN, MODEL_NAME), map_location=device))\n",
    "model.to(device)\n",
    "model.eval()"
   ]
  },
  {
   "cell_type": "code",
   "execution_count": 17,
   "metadata": {},
   "outputs": [
    {
     "name": "stdout",
     "output_type": "stream",
     "text": [
      "train RMSE: 1.99 mm\n",
      "test RMSE: 2.12 mm\n",
      "TEST RMSE: 5.66 mm\n",
      "TEST MAE: 2.04 mm\n",
      "TEST ME: -0.12 mm\n"
     ]
    }
   ],
   "source": [
    "# evaluation on  training, test and TEST set\n",
    "\n",
    "with torch.no_grad():\n",
    "    y_ = model(torch.Tensor(X_scaled).to(device)).cpu().numpy().squeeze()\n",
    "    y_TEST_ = model(torch.Tensor(X_TEST_scaled).to(device)).cpu().numpy().squeeze()\n",
    "y_train_ = y_[idx_train]\n",
    "y_test_ = y_[idx_test]\n",
    "\n",
    "RMSE_test_final_mm = np.sqrt(mean_squared_error(y_test, y_test_))\n",
    "RMSE_train_final_mm = np.sqrt(mean_squared_error(y_train, y_train_))\n",
    "RMSE_TEST_final_mm = np.sqrt(mean_squared_error(y_TEST, y_TEST_))\n",
    "MAE_TEST_final_mm = mean_absolute_error(y_TEST, y_TEST_)\n",
    "ME_TEST_final_mm = np.mean(y_TEST - y_TEST_)\n",
    "\n",
    "print(f\"train RMSE: {RMSE_train_final_mm:.2f} mm\")\n",
    "print(f\"test RMSE: {RMSE_test_final_mm:.2f} mm\")\n",
    "print(f\"TEST RMSE: {RMSE_TEST_final_mm:.2f} mm\")\n",
    "print(f\"TEST MAE: {MAE_TEST_final_mm:.2f} mm\")\n",
    "print(f\"TEST ME: {ME_TEST_final_mm:.2f} mm\")"
   ]
  },
  {
   "attachments": {},
   "cell_type": "markdown",
   "metadata": {},
   "source": [
    "### NN bn"
   ]
  },
  {
   "cell_type": "code",
   "execution_count": null,
   "metadata": {},
   "outputs": [
    {
     "data": {
      "text/plain": [
       "{'n_features': 242,\n",
       " 'list_hidden': [32, 16],\n",
       " 'activation': 'sigmoid',\n",
       " 'batch_size': 128,\n",
       " 'epochs': 500,\n",
       " 'decay_after': 100,\n",
       " 'patience': 16,\n",
       " 'lr': 0.001,\n",
       " 'weight_decay': 0.0001,\n",
       " 'betas': (0.9, 0.999),\n",
       " 'use_dropout': False,\n",
       " 'use_bn': True}"
      ]
     },
     "metadata": {},
     "output_type": "display_data"
    }
   ],
   "source": [
    "SAVED_IN = os.path.abspath(DIR + \"/trained_models\" + \"/NN_tuned\")\n",
    "MODEL_NAME = \"NN_32-16_sigmoid.pth\"\n",
    "config_save_path = os.path.join(SAVED_IN, MODEL_NAME).replace(\"pth\", \"config\")\n",
    "with open(config_save_path, \"rb\") as f:\n",
    "    _config = pickle.load(f)\n",
    "\n",
    "_config"
   ]
  },
  {
   "cell_type": "code",
   "execution_count": null,
   "metadata": {},
   "outputs": [
    {
     "data": {
      "text/plain": [
       "NN(\n",
       "  (activation): Sigmoid()\n",
       "  (layers): Sequential(\n",
       "    (0): Linear(in_features=242, out_features=32, bias=True)\n",
       "    (1): BatchNorm1d(32, eps=1e-05, momentum=0.1, affine=True, track_running_stats=True)\n",
       "    (2): Sigmoid()\n",
       "    (3): Linear(in_features=32, out_features=16, bias=True)\n",
       "    (4): BatchNorm1d(16, eps=1e-05, momentum=0.1, affine=True, track_running_stats=True)\n",
       "    (5): Sigmoid()\n",
       "    (6): Linear(in_features=16, out_features=1, bias=True)\n",
       "  )\n",
       ")"
      ]
     },
     "metadata": {},
     "output_type": "display_data"
    }
   ],
   "source": [
    "# dot access\n",
    "config = dotdict(_config)\n",
    "\n",
    "model = NN(\n",
    "    n_features=config.n_features,\n",
    "    list_hidden=config.list_hidden,\n",
    "    activation_fn=dict_act[config.activation],\n",
    "    use_dropout=config.use_dropout,\n",
    "    use_bn=config.use_bn,\n",
    ")\n",
    "\n",
    "model.load_state_dict(torch.load(os.path.join(SAVED_IN, MODEL_NAME), map_location=device))\n",
    "model.to(device)\n",
    "model.eval()"
   ]
  },
  {
   "cell_type": "code",
   "execution_count": null,
   "metadata": {},
   "outputs": [
    {
     "name": "stdout",
     "output_type": "stream",
     "text": [
      "train RMSE: 2.71 mm\n",
      "test RMSE: 2.73 mm\n",
      "TEST RMSE: 3.89 mm\n",
      "TEST MAE: 2.08 mm\n",
      "TEST ME: -0.18 mm\n"
     ]
    }
   ],
   "source": [
    "# evaluation on  training, test and TEST set\n",
    "\n",
    "with torch.no_grad():\n",
    "    y_ = model(torch.Tensor(X_scaled).to(device)).cpu().numpy().squeeze()\n",
    "    y_TEST_ = model(torch.Tensor(X_TEST_scaled).to(device)).cpu().numpy().squeeze()\n",
    "y_train_ = y_[idx_train]\n",
    "y_test_ = y_[idx_test]\n",
    "\n",
    "RMSE_test_final_mm = np.sqrt(mean_squared_error(y_test, y_test_))\n",
    "RMSE_train_final_mm = np.sqrt(mean_squared_error(y_train, y_train_))\n",
    "RMSE_TEST_final_mm = np.sqrt(mean_squared_error(y_TEST, y_TEST_))\n",
    "MAE_TEST_final_mm = mean_absolute_error(y_TEST, y_TEST_)\n",
    "ME_TEST_final_mm = np.mean(y_TEST - y_TEST_)\n",
    "\n",
    "print(f\"train RMSE: {RMSE_train_final_mm:.2f} mm\")\n",
    "print(f\"test RMSE: {RMSE_test_final_mm:.2f} mm\")\n",
    "print(f\"TEST RMSE: {RMSE_TEST_final_mm:.2f} mm\")\n",
    "print(f\"TEST MAE: {MAE_TEST_final_mm:.2f} mm\")\n",
    "print(f\"TEST ME: {ME_TEST_final_mm:.2f} mm\")"
   ]
  },
  {
   "attachments": {},
   "cell_type": "markdown",
   "metadata": {},
   "source": [
    "### NN fe"
   ]
  },
  {
   "cell_type": "code",
   "execution_count": 28,
   "metadata": {},
   "outputs": [
    {
     "data": {
      "text/plain": [
       "{'n_features': 242,\n",
       " 'list_hidden': [32, 16],\n",
       " 'activation': 'sigmoid',\n",
       " 'batch_size': 128,\n",
       " 'epochs': 500,\n",
       " 'decay_after': 100,\n",
       " 'patience': 16,\n",
       " 'lr': 0.001,\n",
       " 'weight_decay': 0.0001,\n",
       " 'betas': (0.9, 0.999),\n",
       " 'use_dropout': False,\n",
       " 'use_bn': False}"
      ]
     },
     "execution_count": 28,
     "metadata": {},
     "output_type": "execute_result"
    }
   ],
   "source": [
    "SAVED_IN = os.path.abspath(DIR + \"/trained_models\" + \"/NN_tuned_fe\")\n",
    "MODEL_NAME = \"NN_32-16.pth\"\n",
    "config_save_path = os.path.join(SAVED_IN, MODEL_NAME).replace(\"pth\", \"config\")\n",
    "with open(config_save_path, \"rb\") as f:\n",
    "    _config = pickle.load(f)\n",
    "\n",
    "_config"
   ]
  },
  {
   "cell_type": "code",
   "execution_count": 30,
   "metadata": {},
   "outputs": [
    {
     "data": {
      "text/plain": [
       "NN_fe(\n",
       "  (activation): Sigmoid()\n",
       "  (layers): Sequential(\n",
       "    (0): Linear(in_features=242, out_features=32, bias=True)\n",
       "    (1): Sigmoid()\n",
       "    (2): Linear(in_features=32, out_features=16, bias=True)\n",
       "    (3): Sigmoid()\n",
       "    (4): Linear(in_features=16, out_features=1, bias=True)\n",
       "  )\n",
       ")"
      ]
     },
     "execution_count": 30,
     "metadata": {},
     "output_type": "execute_result"
    }
   ],
   "source": [
    "# dot access\n",
    "config = dotdict(_config)\n",
    "\n",
    "model = NN_fe(\n",
    "    n_features=config.n_features,\n",
    "    list_hidden=config.list_hidden,\n",
    "    activation_fn=dict_act[config.activation],\n",
    "    device=device,\n",
    "    use_dropout=config.use_dropout,\n",
    "    use_bn=config.use_bn,\n",
    "    ues_ln=config.ues_ln,\n",
    ")\n",
    "\n",
    "model.load_state_dict(torch.load(os.path.join(SAVED_IN, MODEL_NAME), map_location=device))\n",
    "model.to(device)\n",
    "model.eval()"
   ]
  },
  {
   "cell_type": "code",
   "execution_count": 31,
   "metadata": {},
   "outputs": [
    {
     "name": "stdout",
     "output_type": "stream",
     "text": [
      "train RMSE: 1.17 mm\n",
      "test RMSE: 1.21 mm\n",
      "TEST RMSE: 2.50 mm\n",
      "TEST MAE: 1.24 mm\n",
      "TEST ME: -0.11 mm\n"
     ]
    }
   ],
   "source": [
    "# evaluation on  training, test and TEST set\n",
    "\n",
    "with torch.no_grad():\n",
    "    y_ = model(torch.Tensor(X_scaled).to(device)).cpu().numpy().squeeze()\n",
    "    y_TEST_ = model(torch.Tensor(X_TEST_scaled).to(device)).cpu().numpy().squeeze()\n",
    "y_train_ = y_[idx_train]\n",
    "y_test_ = y_[idx_test]\n",
    "\n",
    "RMSE_test_final_mm = np.sqrt(mean_squared_error(y_test, y_test_))\n",
    "RMSE_train_final_mm = np.sqrt(mean_squared_error(y_train, y_train_))\n",
    "RMSE_TEST_final_mm = np.sqrt(mean_squared_error(y_TEST, y_TEST_))\n",
    "MAE_TEST_final_mm = mean_absolute_error(y_TEST, y_TEST_)\n",
    "ME_TEST_final_mm = np.mean(y_TEST - y_TEST_)\n",
    "\n",
    "print(f\"train RMSE: {RMSE_train_final_mm:.2f} mm\")\n",
    "print(f\"test RMSE: {RMSE_test_final_mm:.2f} mm\")\n",
    "print(f\"TEST RMSE: {RMSE_TEST_final_mm:.2f} mm\")\n",
    "print(f\"TEST MAE: {MAE_TEST_final_mm:.2f} mm\")\n",
    "print(f\"TEST ME: {ME_TEST_final_mm:.2f} mm\")"
   ]
  },
  {
   "cell_type": "code",
   "execution_count": null,
   "metadata": {},
   "outputs": [],
   "source": []
  },
  {
   "attachments": {},
   "cell_type": "markdown",
   "metadata": {},
   "source": [
    "### CNN baseline"
   ]
  },
  {
   "cell_type": "code",
   "execution_count": 11,
   "metadata": {},
   "outputs": [
    {
     "data": {
      "text/plain": [
       "{'base_channels': 8,\n",
       " 'activation': 'sigmoid',\n",
       " 'batch_size': 64,\n",
       " 'epochs': 500,\n",
       " 'decay_after': 100,\n",
       " 'patience': 16,\n",
       " 'lr': 0.001,\n",
       " 'weight_decay': 0.001,\n",
       " 'betas': (0.9, 0.999),\n",
       " 'use_dropout': False,\n",
       " 'use_bn': False}"
      ]
     },
     "execution_count": 11,
     "metadata": {},
     "output_type": "execute_result"
    }
   ],
   "source": [
    "SAVED_IN = os.path.abspath(DIR + \"/trained_models\" + \"/CNN\")\n",
    "MODEL_NAME = \"cnn_baseline.pth\"\n",
    "config_save_path = os.path.join(SAVED_IN, MODEL_NAME).replace(\"pth\", \"config\")\n",
    "with open(config_save_path, \"rb\") as f:\n",
    "    _config = pickle.load(f)\n",
    "\n",
    "_config"
   ]
  },
  {
   "cell_type": "code",
   "execution_count": 13,
   "metadata": {},
   "outputs": [
    {
     "data": {
      "text/plain": [
       "CNN_baseline(\n",
       "  (conv1): Conv1d(1, 8, kernel_size=(22,), stride=(11,))\n",
       "  (conv2): Conv1d(8, 16, kernel_size=(3,), stride=(2,))\n",
       "  (conv3): Conv1d(16, 32, kernel_size=(3,), stride=(2,))\n",
       "  (conv4): Conv1d(32, 64, kernel_size=(3,), stride=(1,))\n",
       "  (fc): Linear(in_features=128, out_features=1, bias=True)\n",
       "  (conv_block1): Sequential(\n",
       "    (0): Conv1d(1, 8, kernel_size=(22,), stride=(11,))\n",
       "    (1): Sigmoid()\n",
       "  )\n",
       "  (conv_block2): Sequential(\n",
       "    (0): Conv1d(8, 16, kernel_size=(3,), stride=(2,))\n",
       "    (1): Sigmoid()\n",
       "  )\n",
       "  (conv_block3): Sequential(\n",
       "    (0): Conv1d(16, 32, kernel_size=(3,), stride=(2,))\n",
       "    (1): Sigmoid()\n",
       "  )\n",
       "  (conv_block4): Sequential(\n",
       "    (0): Conv1d(32, 64, kernel_size=(3,), stride=(1,))\n",
       "    (1): Sigmoid()\n",
       "  )\n",
       ")"
      ]
     },
     "execution_count": 13,
     "metadata": {},
     "output_type": "execute_result"
    }
   ],
   "source": [
    "# dot access\n",
    "config = dotdict(_config)\n",
    "\n",
    "model = CNN_baseline(\n",
    "    base_channels=config.base_channels,\n",
    "    activation_fn=dict_act[config.activation],\n",
    "    use_dropout=config.use_dropout,\n",
    "    use_bn=config.use_bn,\n",
    ").to(device)\n",
    "\n",
    "model.load_state_dict(torch.load(os.path.join(SAVED_IN, MODEL_NAME), map_location=device))\n",
    "model.to(device)\n",
    "model.eval()"
   ]
  },
  {
   "cell_type": "code",
   "execution_count": 15,
   "metadata": {},
   "outputs": [
    {
     "name": "stdout",
     "output_type": "stream",
     "text": [
      "train RMSE: 0.73 mm\n",
      "test RMSE: 0.75 mm\n",
      "TEST RMSE: 1.74 mm\n",
      "TEST MAE: 1.03 mm\n",
      "TEST ME: 0.11 mm\n"
     ]
    }
   ],
   "source": [
    "# evaluation on  training, test and TEST set\n",
    "\n",
    "with torch.no_grad():\n",
    "    y_ = model(torch.Tensor(X_scaled).unsqueeze(1).to(device)).cpu().numpy().squeeze()\n",
    "    y_TEST_ = model(torch.Tensor(X_TEST_scaled).unsqueeze(1).to(device)).cpu().numpy().squeeze()\n",
    "y_train_ = y_[idx_train]\n",
    "y_test_ = y_[idx_test]\n",
    "\n",
    "RMSE_test_final_mm = np.sqrt(mean_squared_error(y_test, y_test_))\n",
    "RMSE_train_final_mm = np.sqrt(mean_squared_error(y_train, y_train_))\n",
    "RMSE_TEST_final_mm = np.sqrt(mean_squared_error(y_TEST, y_TEST_))\n",
    "MAE_TEST_final_mm = mean_absolute_error(y_TEST, y_TEST_)\n",
    "ME_TEST_final_mm = np.mean(y_TEST - y_TEST_)\n",
    "\n",
    "print(f\"train RMSE: {RMSE_train_final_mm:.2f} mm\")\n",
    "print(f\"test RMSE: {RMSE_test_final_mm:.2f} mm\")\n",
    "print(f\"TEST RMSE: {RMSE_TEST_final_mm:.2f} mm\")\n",
    "print(f\"TEST MAE: {MAE_TEST_final_mm:.2f} mm\")\n",
    "print(f\"TEST ME: {ME_TEST_final_mm:.2f} mm\")"
   ]
  },
  {
   "attachments": {},
   "cell_type": "markdown",
   "metadata": {},
   "source": [
    "### CNN_bn"
   ]
  },
  {
   "cell_type": "code",
   "execution_count": 16,
   "metadata": {},
   "outputs": [
    {
     "data": {
      "text/plain": [
       "{'base_channels': 8,\n",
       " 'activation': 'sigmoid',\n",
       " 'batch_size': 64,\n",
       " 'epochs': 500,\n",
       " 'decay_after': 100,\n",
       " 'patience': 16,\n",
       " 'lr': 0.001,\n",
       " 'weight_decay': 0.001,\n",
       " 'betas': (0.9, 0.999),\n",
       " 'use_dropout': False,\n",
       " 'use_bn': True}"
      ]
     },
     "execution_count": 16,
     "metadata": {},
     "output_type": "execute_result"
    }
   ],
   "source": [
    "SAVED_IN = os.path.abspath(DIR + \"/trained_models\" + \"/CNN\")\n",
    "MODEL_NAME = \"cnn_baseline_bn.pth\"\n",
    "config_save_path = os.path.join(SAVED_IN, MODEL_NAME).replace(\"pth\", \"config\")\n",
    "with open(config_save_path, \"rb\") as f:\n",
    "    _config = pickle.load(f)\n",
    "\n",
    "_config"
   ]
  },
  {
   "cell_type": "code",
   "execution_count": 17,
   "metadata": {},
   "outputs": [
    {
     "data": {
      "text/plain": [
       "CNN_baseline(\n",
       "  (conv1): Conv1d(1, 8, kernel_size=(22,), stride=(11,))\n",
       "  (conv2): Conv1d(8, 16, kernel_size=(3,), stride=(2,))\n",
       "  (conv3): Conv1d(16, 32, kernel_size=(3,), stride=(2,))\n",
       "  (conv4): Conv1d(32, 64, kernel_size=(3,), stride=(1,))\n",
       "  (fc): Linear(in_features=128, out_features=1, bias=True)\n",
       "  (conv_block1): Sequential(\n",
       "    (0): Conv1d(1, 8, kernel_size=(22,), stride=(11,))\n",
       "    (1): BatchNorm1d(8, eps=1e-05, momentum=0.1, affine=True, track_running_stats=True)\n",
       "    (2): Sigmoid()\n",
       "  )\n",
       "  (conv_block2): Sequential(\n",
       "    (0): Conv1d(8, 16, kernel_size=(3,), stride=(2,))\n",
       "    (1): BatchNorm1d(16, eps=1e-05, momentum=0.1, affine=True, track_running_stats=True)\n",
       "    (2): Sigmoid()\n",
       "  )\n",
       "  (conv_block3): Sequential(\n",
       "    (0): Conv1d(16, 32, kernel_size=(3,), stride=(2,))\n",
       "    (1): BatchNorm1d(32, eps=1e-05, momentum=0.1, affine=True, track_running_stats=True)\n",
       "    (2): Sigmoid()\n",
       "  )\n",
       "  (conv_block4): Sequential(\n",
       "    (0): Conv1d(32, 64, kernel_size=(3,), stride=(1,))\n",
       "    (1): BatchNorm1d(64, eps=1e-05, momentum=0.1, affine=True, track_running_stats=True)\n",
       "    (2): Sigmoid()\n",
       "  )\n",
       ")"
      ]
     },
     "execution_count": 17,
     "metadata": {},
     "output_type": "execute_result"
    }
   ],
   "source": [
    "# dot access\n",
    "config = dotdict(_config)\n",
    "\n",
    "model = CNN_baseline(\n",
    "    base_channels=config.base_channels,\n",
    "    activation_fn=dict_act[config.activation],\n",
    "    use_dropout=config.use_dropout,\n",
    "    use_bn=config.use_bn,\n",
    ").to(device)\n",
    "\n",
    "model.load_state_dict(torch.load(os.path.join(SAVED_IN, MODEL_NAME), map_location=device))\n",
    "model.to(device)\n",
    "model.eval()"
   ]
  },
  {
   "cell_type": "code",
   "execution_count": 18,
   "metadata": {},
   "outputs": [
    {
     "name": "stdout",
     "output_type": "stream",
     "text": [
      "train RMSE: 1.84 mm\n",
      "test RMSE: 1.86 mm\n",
      "TEST RMSE: 2.67 mm\n",
      "TEST MAE: 1.89 mm\n",
      "TEST ME: -0.08 mm\n"
     ]
    }
   ],
   "source": [
    "# evaluation on  training, test and TEST set\n",
    "\n",
    "with torch.no_grad():\n",
    "    y_ = model(torch.Tensor(X_scaled).unsqueeze(1).to(device)).cpu().numpy().squeeze()\n",
    "    y_TEST_ = model(torch.Tensor(X_TEST_scaled).unsqueeze(1).to(device)).cpu().numpy().squeeze()\n",
    "y_train_ = y_[idx_train]\n",
    "y_test_ = y_[idx_test]\n",
    "\n",
    "RMSE_test_final_mm = np.sqrt(mean_squared_error(y_test, y_test_))\n",
    "RMSE_train_final_mm = np.sqrt(mean_squared_error(y_train, y_train_))\n",
    "RMSE_TEST_final_mm = np.sqrt(mean_squared_error(y_TEST, y_TEST_))\n",
    "MAE_TEST_final_mm = mean_absolute_error(y_TEST, y_TEST_)\n",
    "ME_TEST_final_mm = np.mean(y_TEST - y_TEST_)\n",
    "\n",
    "print(f\"train RMSE: {RMSE_train_final_mm:.2f} mm\")\n",
    "print(f\"test RMSE: {RMSE_test_final_mm:.2f} mm\")\n",
    "print(f\"TEST RMSE: {RMSE_TEST_final_mm:.2f} mm\")\n",
    "print(f\"TEST MAE: {MAE_TEST_final_mm:.2f} mm\")\n",
    "print(f\"TEST ME: {ME_TEST_final_mm:.2f} mm\")"
   ]
  },
  {
   "attachments": {},
   "cell_type": "markdown",
   "metadata": {},
   "source": [
    "### CNN fe"
   ]
  },
  {
   "cell_type": "code",
   "execution_count": 44,
   "metadata": {},
   "outputs": [
    {
     "data": {
      "text/plain": [
       "{'n_features': 242,\n",
       " 'base_channels': 8,\n",
       " 'activation': 'sigmoid',\n",
       " 'batch_size': 64,\n",
       " 'epochs': 500,\n",
       " 'decay_after': 100,\n",
       " 'patience': 16,\n",
       " 'lr': 0.001,\n",
       " 'weight_decay': 0.0001,\n",
       " 'betas': (0.9, 0.999),\n",
       " 'use_fe': True,\n",
       " 'use_dropout': False,\n",
       " 'use_bn': False}"
      ]
     },
     "execution_count": 44,
     "metadata": {},
     "output_type": "execute_result"
    }
   ],
   "source": [
    "SAVED_IN = os.path.abspath(DIR + \"/trained_models\" + \"/CNN_fe\")\n",
    "MODEL_NAME = \"cnn_baseline.pth\"\n",
    "config_save_path = os.path.join(SAVED_IN, MODEL_NAME).replace(\"pth\", \"config\")\n",
    "with open(config_save_path, \"rb\") as f:\n",
    "    _config = pickle.load(f)\n",
    "\n",
    "_config"
   ]
  },
  {
   "cell_type": "code",
   "execution_count": 45,
   "metadata": {},
   "outputs": [
    {
     "data": {
      "text/plain": [
       "CNN_baseline_fe(\n",
       "  (conv1): Conv1d(1, 8, kernel_size=(22,), stride=(11,))\n",
       "  (conv2): Conv1d(8, 16, kernel_size=(3,), stride=(2,))\n",
       "  (conv3): Conv1d(16, 32, kernel_size=(3,), stride=(2,))\n",
       "  (conv4): Conv1d(32, 64, kernel_size=(3,), stride=(1,))\n",
       "  (fc): Linear(in_features=128, out_features=1, bias=True)\n",
       "  (conv_block1): Sequential(\n",
       "    (0): Conv1d(1, 8, kernel_size=(22,), stride=(11,))\n",
       "    (1): Sigmoid()\n",
       "  )\n",
       "  (conv_block2): Sequential(\n",
       "    (0): Conv1d(8, 16, kernel_size=(3,), stride=(2,))\n",
       "    (1): Sigmoid()\n",
       "  )\n",
       "  (conv_block3): Sequential(\n",
       "    (0): Conv1d(16, 32, kernel_size=(3,), stride=(2,))\n",
       "    (1): Sigmoid()\n",
       "  )\n",
       "  (conv_block4): Sequential(\n",
       "    (0): Conv1d(32, 64, kernel_size=(3,), stride=(1,))\n",
       "    (1): Sigmoid()\n",
       "  )\n",
       ")"
      ]
     },
     "execution_count": 45,
     "metadata": {},
     "output_type": "execute_result"
    }
   ],
   "source": [
    "# dot access\n",
    "config = dotdict(_config)\n",
    "\n",
    "model = CNN_baseline_fe(\n",
    "    n_features=config.n_features,\n",
    "    base_channels=config.base_channels,\n",
    "    device=device,\n",
    "    activation_fn=dict_act[config.activation],\n",
    "    use_fe=config.use_fe,\n",
    "    use_dropout=config.use_dropout,\n",
    "    use_bn=config.use_bn,\n",
    ").to(device)\n",
    "\n",
    "model.load_state_dict(torch.load(os.path.join(SAVED_IN, MODEL_NAME), map_location=device))\n",
    "model.to(device)\n",
    "model.eval()"
   ]
  },
  {
   "cell_type": "code",
   "execution_count": 46,
   "metadata": {},
   "outputs": [
    {
     "name": "stdout",
     "output_type": "stream",
     "text": [
      "train RMSE: 0.56 mm\n",
      "test RMSE: 0.57 mm\n",
      "TEST RMSE: 1.47 mm\n",
      "TEST MAE: 0.80 mm\n",
      "TEST ME: 0.11 mm\n"
     ]
    }
   ],
   "source": [
    "# evaluation on  training, test and TEST set\n",
    "\n",
    "with torch.no_grad():\n",
    "    y_ = model(torch.Tensor(X_scaled).unsqueeze(1).to(device)).cpu().numpy().squeeze()\n",
    "    y_TEST_ = model(torch.Tensor(X_TEST_scaled).unsqueeze(1).to(device)).cpu().numpy().squeeze()\n",
    "y_train_ = y_[idx_train]\n",
    "y_test_ = y_[idx_test]\n",
    "\n",
    "RMSE_test_final_mm = np.sqrt(mean_squared_error(y_test, y_test_))\n",
    "RMSE_train_final_mm = np.sqrt(mean_squared_error(y_train, y_train_))\n",
    "RMSE_TEST_final_mm = np.sqrt(mean_squared_error(y_TEST, y_TEST_))\n",
    "MAE_TEST_final_mm = mean_absolute_error(y_TEST, y_TEST_)\n",
    "ME_TEST_final_mm = np.mean(y_TEST - y_TEST_)\n",
    "\n",
    "print(f\"train RMSE: {RMSE_train_final_mm:.2f} mm\")\n",
    "print(f\"test RMSE: {RMSE_test_final_mm:.2f} mm\")\n",
    "print(f\"TEST RMSE: {RMSE_TEST_final_mm:.2f} mm\")\n",
    "print(f\"TEST MAE: {MAE_TEST_final_mm:.2f} mm\")\n",
    "print(f\"TEST ME: {ME_TEST_final_mm:.2f} mm\")"
   ]
  },
  {
   "attachments": {},
   "cell_type": "markdown",
   "metadata": {},
   "source": [
    "## Activation Comparison"
   ]
  },
  {
   "attachments": {},
   "cell_type": "markdown",
   "metadata": {},
   "source": [
    "#### sigmoid"
   ]
  },
  {
   "cell_type": "code",
   "execution_count": null,
   "metadata": {},
   "outputs": [
    {
     "data": {
      "text/plain": [
       "{'n_features': 242,\n",
       " 'list_hidden': [32, 16],\n",
       " 'activation': 'sigmoid',\n",
       " 'batch_size': 128,\n",
       " 'epochs': 500,\n",
       " 'decay_after': 100,\n",
       " 'patience': 16,\n",
       " 'lr': 0.001,\n",
       " 'weight_decay': 0.0001,\n",
       " 'betas': (0.9, 0.999),\n",
       " 'use_dropout': False,\n",
       " 'use_bn': True}"
      ]
     },
     "metadata": {},
     "output_type": "display_data"
    }
   ],
   "source": [
    "SAVED_IN = os.path.abspath(DIR + \"/trained_models\" + \"/NN_tuned\")\n",
    "MODEL_NAME = \"NN_32-16_sigmoid.pth\"\n",
    "config_save_path = os.path.join(SAVED_IN, MODEL_NAME).replace(\"pth\", \"config\")\n",
    "with open(config_save_path, \"rb\") as f:\n",
    "    _config = pickle.load(f)\n",
    "\n",
    "_config"
   ]
  },
  {
   "cell_type": "code",
   "execution_count": null,
   "metadata": {},
   "outputs": [
    {
     "data": {
      "text/plain": [
       "NN(\n",
       "  (activation): Sigmoid()\n",
       "  (layers): Sequential(\n",
       "    (0): Linear(in_features=242, out_features=32, bias=True)\n",
       "    (1): BatchNorm1d(32, eps=1e-05, momentum=0.1, affine=True, track_running_stats=True)\n",
       "    (2): Sigmoid()\n",
       "    (3): Linear(in_features=32, out_features=16, bias=True)\n",
       "    (4): BatchNorm1d(16, eps=1e-05, momentum=0.1, affine=True, track_running_stats=True)\n",
       "    (5): Sigmoid()\n",
       "    (6): Linear(in_features=16, out_features=1, bias=True)\n",
       "  )\n",
       ")"
      ]
     },
     "metadata": {},
     "output_type": "display_data"
    }
   ],
   "source": [
    "# dot access\n",
    "config = dotdict(_config)\n",
    "\n",
    "model = NN(\n",
    "    n_features=config.n_features,\n",
    "    list_hidden=config.list_hidden,\n",
    "    activation_fn=dict_act[config.activation],\n",
    "    use_dropout=config.use_dropout,\n",
    "    use_bn=config.use_bn,\n",
    ")\n",
    "\n",
    "model.load_state_dict(torch.load(os.path.join(SAVED_IN, MODEL_NAME), map_location=device))\n",
    "model.to(device)\n",
    "model.eval()"
   ]
  },
  {
   "cell_type": "code",
   "execution_count": null,
   "metadata": {},
   "outputs": [
    {
     "name": "stdout",
     "output_type": "stream",
     "text": [
      "train RMSE: 2.71 mm\n",
      "test RMSE: 2.73 mm\n",
      "TEST RMSE: 3.89 mm\n",
      "TEST MAE: 2.08 mm\n",
      "TEST ME: -0.18 mm\n"
     ]
    }
   ],
   "source": [
    "# evaluation on  training, test and TEST set\n",
    "\n",
    "with torch.no_grad():\n",
    "    y_ = model(torch.Tensor(X_scaled).to(device)).cpu().numpy().squeeze()\n",
    "    y_TEST_ = model(torch.Tensor(X_TEST_scaled).to(device)).cpu().numpy().squeeze()\n",
    "y_train_ = y_[idx_train]\n",
    "y_test_ = y_[idx_test]\n",
    "\n",
    "RMSE_test_final_mm = np.sqrt(mean_squared_error(y_test, y_test_))\n",
    "RMSE_train_final_mm = np.sqrt(mean_squared_error(y_train, y_train_))\n",
    "RMSE_TEST_final_mm = np.sqrt(mean_squared_error(y_TEST, y_TEST_))\n",
    "MAE_TEST_final_mm = mean_absolute_error(y_TEST, y_TEST_)\n",
    "ME_TEST_final_mm = np.mean(y_TEST - y_TEST_)\n",
    "\n",
    "print(f\"train RMSE: {RMSE_train_final_mm:.2f} mm\")\n",
    "print(f\"test RMSE: {RMSE_test_final_mm:.2f} mm\")\n",
    "print(f\"TEST RMSE: {RMSE_TEST_final_mm:.2f} mm\")\n",
    "print(f\"TEST MAE: {MAE_TEST_final_mm:.2f} mm\")\n",
    "print(f\"TEST ME: {ME_TEST_final_mm:.2f} mm\")"
   ]
  },
  {
   "cell_type": "code",
   "execution_count": null,
   "metadata": {},
   "outputs": [],
   "source": []
  },
  {
   "attachments": {},
   "cell_type": "markdown",
   "metadata": {},
   "source": [
    "#### tanh"
   ]
  },
  {
   "cell_type": "code",
   "execution_count": 35,
   "metadata": {},
   "outputs": [
    {
     "data": {
      "text/plain": [
       "{'n_features': 242,\n",
       " 'list_hidden': [32, 16],\n",
       " 'activation': 'tanh',\n",
       " 'batch_size': 128,\n",
       " 'epochs': 500,\n",
       " 'decay_after': 100,\n",
       " 'patience': 16,\n",
       " 'lr': 0.001,\n",
       " 'weight_decay': 0.0001,\n",
       " 'betas': (0.9, 0.999),\n",
       " 'use_dropout': False,\n",
       " 'use_bn': True}"
      ]
     },
     "execution_count": 35,
     "metadata": {},
     "output_type": "execute_result"
    }
   ],
   "source": [
    "SAVED_IN = os.path.abspath(DIR + \"/trained_models\" + \"/NN_tuned\")\n",
    "MODEL_NAME = \"NN_32-16.pth\"\n",
    "config_save_path = os.path.join(SAVED_IN, MODEL_NAME).replace(\"pth\", \"config\")\n",
    "with open(config_save_path, \"rb\") as f:\n",
    "    _config = pickle.load(f)\n",
    "\n",
    "_config"
   ]
  },
  {
   "cell_type": "code",
   "execution_count": 36,
   "metadata": {},
   "outputs": [
    {
     "data": {
      "text/plain": [
       "NN(\n",
       "  (activation): Tanh()\n",
       "  (layers): Sequential(\n",
       "    (0): Linear(in_features=242, out_features=32, bias=True)\n",
       "    (1): BatchNorm1d(32, eps=1e-05, momentum=0.1, affine=True, track_running_stats=True)\n",
       "    (2): Tanh()\n",
       "    (3): Linear(in_features=32, out_features=16, bias=True)\n",
       "    (4): BatchNorm1d(16, eps=1e-05, momentum=0.1, affine=True, track_running_stats=True)\n",
       "    (5): Tanh()\n",
       "    (6): Linear(in_features=16, out_features=1, bias=True)\n",
       "  )\n",
       ")"
      ]
     },
     "execution_count": 36,
     "metadata": {},
     "output_type": "execute_result"
    }
   ],
   "source": [
    "# dot access\n",
    "config = dotdict(_config)\n",
    "\n",
    "model = NN(\n",
    "    n_features=config.n_features,\n",
    "    list_hidden=config.list_hidden,\n",
    "    activation_fn=dict_act[config.activation],\n",
    "    use_dropout=config.use_dropout,\n",
    "    use_bn=config.use_bn,\n",
    ")\n",
    "\n",
    "model.load_state_dict(torch.load(os.path.join(SAVED_IN, MODEL_NAME), map_location=device))\n",
    "model.to(device)\n",
    "model.eval()"
   ]
  },
  {
   "cell_type": "code",
   "execution_count": 37,
   "metadata": {},
   "outputs": [
    {
     "name": "stdout",
     "output_type": "stream",
     "text": [
      "train RMSE: 4.64 mm\n",
      "test RMSE: 4.66 mm\n",
      "TEST RMSE: 6.20 mm\n",
      "TEST MAE: 3.77 mm\n",
      "TEST ME: -0.14 mm\n"
     ]
    }
   ],
   "source": [
    "# evaluation on  training, test and TEST set\n",
    "\n",
    "with torch.no_grad():\n",
    "    y_ = model(torch.Tensor(X_scaled).to(device)).cpu().numpy().squeeze()\n",
    "    y_TEST_ = model(torch.Tensor(X_TEST_scaled).to(device)).cpu().numpy().squeeze()\n",
    "y_train_ = y_[idx_train]\n",
    "y_test_ = y_[idx_test]\n",
    "\n",
    "RMSE_test_final_mm = np.sqrt(mean_squared_error(y_test, y_test_))\n",
    "RMSE_train_final_mm = np.sqrt(mean_squared_error(y_train, y_train_))\n",
    "RMSE_TEST_final_mm = np.sqrt(mean_squared_error(y_TEST, y_TEST_))\n",
    "MAE_TEST_final_mm = mean_absolute_error(y_TEST, y_TEST_)\n",
    "ME_TEST_final_mm = np.mean(y_TEST - y_TEST_)\n",
    "\n",
    "print(f\"train RMSE: {RMSE_train_final_mm:.2f} mm\")\n",
    "print(f\"test RMSE: {RMSE_test_final_mm:.2f} mm\")\n",
    "print(f\"TEST RMSE: {RMSE_TEST_final_mm:.2f} mm\")\n",
    "print(f\"TEST MAE: {MAE_TEST_final_mm:.2f} mm\")\n",
    "print(f\"TEST ME: {ME_TEST_final_mm:.2f} mm\")"
   ]
  },
  {
   "attachments": {},
   "cell_type": "markdown",
   "metadata": {},
   "source": [
    "#### selu"
   ]
  },
  {
   "cell_type": "code",
   "execution_count": 38,
   "metadata": {},
   "outputs": [
    {
     "data": {
      "text/plain": [
       "{'n_features': 242,\n",
       " 'list_hidden': [32, 16],\n",
       " 'activation': 'selu',\n",
       " 'batch_size': 128,\n",
       " 'epochs': 500,\n",
       " 'decay_after': 100,\n",
       " 'patience': 16,\n",
       " 'lr': 0.001,\n",
       " 'weight_decay': 0.0001,\n",
       " 'betas': (0.9, 0.999),\n",
       " 'use_dropout': False,\n",
       " 'use_bn': True}"
      ]
     },
     "execution_count": 38,
     "metadata": {},
     "output_type": "execute_result"
    }
   ],
   "source": [
    "SAVED_IN = os.path.abspath(DIR + \"/trained_models\" + \"/NN_tuned\")\n",
    "MODEL_NAME = \"NN_32-16_selu.pth\"\n",
    "config_save_path = os.path.join(SAVED_IN, MODEL_NAME).replace(\"pth\", \"config\")\n",
    "with open(config_save_path, \"rb\") as f:\n",
    "    _config = pickle.load(f)\n",
    "\n",
    "_config"
   ]
  },
  {
   "cell_type": "code",
   "execution_count": 39,
   "metadata": {},
   "outputs": [
    {
     "data": {
      "text/plain": [
       "NN(\n",
       "  (activation): SELU()\n",
       "  (layers): Sequential(\n",
       "    (0): Linear(in_features=242, out_features=32, bias=True)\n",
       "    (1): BatchNorm1d(32, eps=1e-05, momentum=0.1, affine=True, track_running_stats=True)\n",
       "    (2): SELU()\n",
       "    (3): Linear(in_features=32, out_features=16, bias=True)\n",
       "    (4): BatchNorm1d(16, eps=1e-05, momentum=0.1, affine=True, track_running_stats=True)\n",
       "    (5): SELU()\n",
       "    (6): Linear(in_features=16, out_features=1, bias=True)\n",
       "  )\n",
       ")"
      ]
     },
     "execution_count": 39,
     "metadata": {},
     "output_type": "execute_result"
    }
   ],
   "source": [
    "# dot access\n",
    "config = dotdict(_config)\n",
    "\n",
    "model = NN(\n",
    "    n_features=config.n_features,\n",
    "    list_hidden=config.list_hidden,\n",
    "    activation_fn=dict_act[config.activation],\n",
    "    use_dropout=config.use_dropout,\n",
    "    use_bn=config.use_bn,\n",
    ")\n",
    "\n",
    "model.load_state_dict(torch.load(os.path.join(SAVED_IN, MODEL_NAME), map_location=device))\n",
    "model.to(device)\n",
    "model.eval()"
   ]
  },
  {
   "cell_type": "code",
   "execution_count": 40,
   "metadata": {},
   "outputs": [
    {
     "name": "stdout",
     "output_type": "stream",
     "text": [
      "train RMSE: 4.84 mm\n",
      "test RMSE: 4.86 mm\n",
      "TEST RMSE: 5.88 mm\n",
      "TEST MAE: 4.30 mm\n",
      "TEST ME: -0.08 mm\n"
     ]
    }
   ],
   "source": [
    "# evaluation on  training, test and TEST set\n",
    "\n",
    "with torch.no_grad():\n",
    "    y_ = model(torch.Tensor(X_scaled).to(device)).cpu().numpy().squeeze()\n",
    "    y_TEST_ = model(torch.Tensor(X_TEST_scaled).to(device)).cpu().numpy().squeeze()\n",
    "y_train_ = y_[idx_train]\n",
    "y_test_ = y_[idx_test]\n",
    "\n",
    "RMSE_test_final_mm = np.sqrt(mean_squared_error(y_test, y_test_))\n",
    "RMSE_train_final_mm = np.sqrt(mean_squared_error(y_train, y_train_))\n",
    "RMSE_TEST_final_mm = np.sqrt(mean_squared_error(y_TEST, y_TEST_))\n",
    "MAE_TEST_final_mm = mean_absolute_error(y_TEST, y_TEST_)\n",
    "ME_TEST_final_mm = np.mean(y_TEST - y_TEST_)\n",
    "\n",
    "print(f\"train RMSE: {RMSE_train_final_mm:.2f} mm\")\n",
    "print(f\"test RMSE: {RMSE_test_final_mm:.2f} mm\")\n",
    "print(f\"TEST RMSE: {RMSE_TEST_final_mm:.2f} mm\")\n",
    "print(f\"TEST MAE: {MAE_TEST_final_mm:.2f} mm\")\n",
    "print(f\"TEST ME: {ME_TEST_final_mm:.2f} mm\")"
   ]
  },
  {
   "attachments": {},
   "cell_type": "markdown",
   "metadata": {},
   "source": [
    "#### relu"
   ]
  },
  {
   "cell_type": "code",
   "execution_count": 41,
   "metadata": {},
   "outputs": [
    {
     "data": {
      "text/plain": [
       "{'n_features': 242,\n",
       " 'list_hidden': [32, 16],\n",
       " 'activation': 'relu',\n",
       " 'batch_size': 128,\n",
       " 'epochs': 500,\n",
       " 'decay_after': 100,\n",
       " 'patience': 16,\n",
       " 'lr': 0.001,\n",
       " 'weight_decay': 0.0001,\n",
       " 'betas': (0.9, 0.999),\n",
       " 'use_dropout': False,\n",
       " 'use_bn': True}"
      ]
     },
     "execution_count": 41,
     "metadata": {},
     "output_type": "execute_result"
    }
   ],
   "source": [
    "SAVED_IN = os.path.abspath(DIR + \"/trained_models\" + \"/NN_tuned\")\n",
    "MODEL_NAME = \"NN_32-16_relu.pth\"\n",
    "config_save_path = os.path.join(SAVED_IN, MODEL_NAME).replace(\"pth\", \"config\")\n",
    "with open(config_save_path, \"rb\") as f:\n",
    "    _config = pickle.load(f)\n",
    "\n",
    "_config"
   ]
  },
  {
   "cell_type": "code",
   "execution_count": 42,
   "metadata": {},
   "outputs": [
    {
     "data": {
      "text/plain": [
       "NN(\n",
       "  (activation): ReLU()\n",
       "  (layers): Sequential(\n",
       "    (0): Linear(in_features=242, out_features=32, bias=True)\n",
       "    (1): BatchNorm1d(32, eps=1e-05, momentum=0.1, affine=True, track_running_stats=True)\n",
       "    (2): ReLU()\n",
       "    (3): Linear(in_features=32, out_features=16, bias=True)\n",
       "    (4): BatchNorm1d(16, eps=1e-05, momentum=0.1, affine=True, track_running_stats=True)\n",
       "    (5): ReLU()\n",
       "    (6): Linear(in_features=16, out_features=1, bias=True)\n",
       "  )\n",
       ")"
      ]
     },
     "execution_count": 42,
     "metadata": {},
     "output_type": "execute_result"
    }
   ],
   "source": [
    "# dot access\n",
    "config = dotdict(_config)\n",
    "\n",
    "model = NN(\n",
    "    n_features=config.n_features,\n",
    "    list_hidden=config.list_hidden,\n",
    "    activation_fn=dict_act[config.activation],\n",
    "    use_dropout=config.use_dropout,\n",
    "    use_bn=config.use_bn,\n",
    ")\n",
    "\n",
    "model.load_state_dict(torch.load(os.path.join(SAVED_IN, MODEL_NAME), map_location=device))\n",
    "model.to(device)\n",
    "model.eval()"
   ]
  },
  {
   "cell_type": "code",
   "execution_count": 43,
   "metadata": {},
   "outputs": [
    {
     "name": "stdout",
     "output_type": "stream",
     "text": [
      "train RMSE: 4.26 mm\n",
      "test RMSE: 4.30 mm\n",
      "TEST RMSE: 5.96 mm\n",
      "TEST MAE: 4.00 mm\n",
      "TEST ME: -0.06 mm\n"
     ]
    }
   ],
   "source": [
    "# evaluation on  training, test and TEST set\n",
    "\n",
    "with torch.no_grad():\n",
    "    y_ = model(torch.Tensor(X_scaled).to(device)).cpu().numpy().squeeze()\n",
    "    y_TEST_ = model(torch.Tensor(X_TEST_scaled).to(device)).cpu().numpy().squeeze()\n",
    "y_train_ = y_[idx_train]\n",
    "y_test_ = y_[idx_test]\n",
    "\n",
    "RMSE_test_final_mm = np.sqrt(mean_squared_error(y_test, y_test_))\n",
    "RMSE_train_final_mm = np.sqrt(mean_squared_error(y_train, y_train_))\n",
    "RMSE_TEST_final_mm = np.sqrt(mean_squared_error(y_TEST, y_TEST_))\n",
    "MAE_TEST_final_mm = mean_absolute_error(y_TEST, y_TEST_)\n",
    "ME_TEST_final_mm = np.mean(y_TEST - y_TEST_)\n",
    "\n",
    "print(f\"train RMSE: {RMSE_train_final_mm:.2f} mm\")\n",
    "print(f\"test RMSE: {RMSE_test_final_mm:.2f} mm\")\n",
    "print(f\"TEST RMSE: {RMSE_TEST_final_mm:.2f} mm\")\n",
    "print(f\"TEST MAE: {MAE_TEST_final_mm:.2f} mm\")\n",
    "print(f\"TEST ME: {ME_TEST_final_mm:.2f} mm\")"
   ]
  },
  {
   "attachments": {},
   "cell_type": "markdown",
   "metadata": {},
   "source": [
    "#### leakyrelu"
   ]
  },
  {
   "cell_type": "code",
   "execution_count": 44,
   "metadata": {},
   "outputs": [
    {
     "data": {
      "text/plain": [
       "{'n_features': 242,\n",
       " 'list_hidden': [32, 16],\n",
       " 'activation': 'tanh',\n",
       " 'batch_size': 128,\n",
       " 'epochs': 500,\n",
       " 'decay_after': 100,\n",
       " 'patience': 16,\n",
       " 'lr': 0.001,\n",
       " 'weight_decay': 0.0001,\n",
       " 'betas': (0.9, 0.999),\n",
       " 'use_dropout': False,\n",
       " 'use_bn': True}"
      ]
     },
     "execution_count": 44,
     "metadata": {},
     "output_type": "execute_result"
    }
   ],
   "source": [
    "SAVED_IN = os.path.abspath(DIR + \"/trained_models\" + \"/NN_tuned\")\n",
    "MODEL_NAME = \"NN_32-16_leakyrelu.pth\"\n",
    "config_save_path = os.path.join(SAVED_IN, MODEL_NAME).replace(\"pth\", \"config\")\n",
    "with open(config_save_path, \"rb\") as f:\n",
    "    _config = pickle.load(f)\n",
    "\n",
    "_config"
   ]
  },
  {
   "cell_type": "code",
   "execution_count": 45,
   "metadata": {},
   "outputs": [
    {
     "data": {
      "text/plain": [
       "NN(\n",
       "  (activation): Tanh()\n",
       "  (layers): Sequential(\n",
       "    (0): Linear(in_features=242, out_features=32, bias=True)\n",
       "    (1): BatchNorm1d(32, eps=1e-05, momentum=0.1, affine=True, track_running_stats=True)\n",
       "    (2): Tanh()\n",
       "    (3): Linear(in_features=32, out_features=16, bias=True)\n",
       "    (4): BatchNorm1d(16, eps=1e-05, momentum=0.1, affine=True, track_running_stats=True)\n",
       "    (5): Tanh()\n",
       "    (6): Linear(in_features=16, out_features=1, bias=True)\n",
       "  )\n",
       ")"
      ]
     },
     "execution_count": 45,
     "metadata": {},
     "output_type": "execute_result"
    }
   ],
   "source": [
    "# dot access\n",
    "config = dotdict(_config)\n",
    "\n",
    "model = NN(\n",
    "    n_features=config.n_features,\n",
    "    list_hidden=config.list_hidden,\n",
    "    activation_fn=dict_act[config.activation],\n",
    "    use_dropout=config.use_dropout,\n",
    "    use_bn=config.use_bn,\n",
    ")\n",
    "\n",
    "model.load_state_dict(torch.load(os.path.join(SAVED_IN, MODEL_NAME), map_location=device))\n",
    "model.to(device)\n",
    "model.eval()"
   ]
  },
  {
   "cell_type": "code",
   "execution_count": 46,
   "metadata": {},
   "outputs": [
    {
     "name": "stdout",
     "output_type": "stream",
     "text": [
      "train RMSE: 5.58 mm\n",
      "test RMSE: 5.60 mm\n",
      "TEST RMSE: 8.30 mm\n",
      "TEST MAE: 4.79 mm\n",
      "TEST ME: 0.00 mm\n"
     ]
    }
   ],
   "source": [
    "# evaluation on  training, test and TEST set\n",
    "\n",
    "with torch.no_grad():\n",
    "    y_ = model(torch.Tensor(X_scaled).to(device)).cpu().numpy().squeeze()\n",
    "    y_TEST_ = model(torch.Tensor(X_TEST_scaled).to(device)).cpu().numpy().squeeze()\n",
    "y_train_ = y_[idx_train]\n",
    "y_test_ = y_[idx_test]\n",
    "\n",
    "RMSE_test_final_mm = np.sqrt(mean_squared_error(y_test, y_test_))\n",
    "RMSE_train_final_mm = np.sqrt(mean_squared_error(y_train, y_train_))\n",
    "RMSE_TEST_final_mm = np.sqrt(mean_squared_error(y_TEST, y_TEST_))\n",
    "MAE_TEST_final_mm = mean_absolute_error(y_TEST, y_TEST_)\n",
    "ME_TEST_final_mm = np.mean(y_TEST - y_TEST_)\n",
    "\n",
    "print(f\"train RMSE: {RMSE_train_final_mm:.2f} mm\")\n",
    "print(f\"test RMSE: {RMSE_test_final_mm:.2f} mm\")\n",
    "print(f\"TEST RMSE: {RMSE_TEST_final_mm:.2f} mm\")\n",
    "print(f\"TEST MAE: {MAE_TEST_final_mm:.2f} mm\")\n",
    "print(f\"TEST ME: {ME_TEST_final_mm:.2f} mm\")"
   ]
  },
  {
   "cell_type": "code",
   "execution_count": null,
   "metadata": {},
   "outputs": [],
   "source": []
  },
  {
   "attachments": {},
   "cell_type": "markdown",
   "metadata": {},
   "source": [
    "# CVNN"
   ]
  },
  {
   "attachments": {},
   "cell_type": "markdown",
   "id": "a047eda0",
   "metadata": {},
   "source": [
    "## Data Extraction"
   ]
  },
  {
   "cell_type": "code",
   "execution_count": 11,
   "id": "aaaf0d32",
   "metadata": {},
   "outputs": [],
   "source": [
    "# load data\n",
    "folder = os.path.join(DIR, \"data\")\n",
    "data_file_name = os.path.join(folder, \"data_offset_complex.pkl\")\n",
    "pos, s21, pos_TEST, s21_TEST = load_pos_s21(data_file_name, 5)\n",
    "\n",
    "X = s21\n",
    "Y = pos\n",
    "\n",
    "X_TEST = s21_TEST\n",
    "y_TEST = pos_TEST\n"
   ]
  },
  {
   "attachments": {},
   "cell_type": "markdown",
   "id": "027f71ec",
   "metadata": {},
   "source": [
    "## Data Preprocessing"
   ]
  },
  {
   "attachments": {},
   "cell_type": "markdown",
   "id": "464b13fc",
   "metadata": {},
   "source": [
    "### Train test split wit indicies"
   ]
  },
  {
   "cell_type": "code",
   "execution_count": 12,
   "id": "72d38d67",
   "metadata": {
    "scrolled": true
   },
   "outputs": [
    {
     "name": "stdout",
     "output_type": "stream",
     "text": [
      "(411257, 121)\n",
      "(411257,)\n",
      "(102815, 121)\n",
      "(102815,)\n"
     ]
    }
   ],
   "source": [
    "indices = np.arange(X.shape[0])\n",
    "X_train, X_test, y_train, y_test, idx_train, idx_test = train_test_split(\n",
    "    X, Y, indices, test_size=0.2, random_state=RANDOM_STATE\n",
    ")\n",
    "idx_train_sort = np.sort(idx_train)\n",
    "idx_test_sort = np.sort(idx_test)\n",
    "\n",
    "print(X_train.shape)\n",
    "print(y_train.shape)\n",
    "print(X_test.shape)\n",
    "print(y_test.shape)\n"
   ]
  },
  {
   "attachments": {},
   "cell_type": "markdown",
   "id": "c16e9cf9",
   "metadata": {},
   "source": [
    "### Normalization"
   ]
  },
  {
   "cell_type": "code",
   "execution_count": 13,
   "id": "a359c8df",
   "metadata": {},
   "outputs": [
    {
     "name": "stdout",
     "output_type": "stream",
     "text": [
      "(411257, 121)\n",
      "(411257, 1)\n",
      "(102815, 121)\n",
      "(102815, 1)\n",
      "(20135, 121)\n",
      "(20135, 1)\n"
     ]
    }
   ],
   "source": [
    "X_train_scaled, X_train_mean, X_train_std = complex_normalize(X_train)\n",
    "X_test_scaled, X_test_mean, X_test_std = complex_normalize(X_test, X_train_mean, X_train_std)\n",
    "X_TEST_scaled, X_TEST_mean, X_TEST_std = complex_normalize(X_TEST, X_train_mean, X_train_std)\n",
    "\n",
    "X_scaled = np.zeros_like(X)\n",
    "X_scaled[idx_train] = X_train_scaled\n",
    "X_scaled[idx_test] = X_test_scaled\n",
    "\n",
    "y_train = Y[idx_train].reshape(-1, 1)  # reshape to (N,1)\n",
    "y_test = Y[idx_test].reshape(-1, 1)  # reshape to (N,1)\n",
    "y_TEST = y_TEST.reshape(-1, 1)  # reshape to (N,1)\n",
    "\n",
    "print(X_train_scaled.shape)\n",
    "print(y_train.shape)\n",
    "print(X_test_scaled.shape)\n",
    "print(y_test.shape)\n",
    "print(X_TEST_scaled.shape)\n",
    "print(y_TEST.shape)\n"
   ]
  },
  {
   "attachments": {},
   "cell_type": "markdown",
   "metadata": {},
   "source": [
    "## Model Comparison"
   ]
  },
  {
   "attachments": {},
   "cell_type": "markdown",
   "metadata": {},
   "source": [
    "### CVNN"
   ]
  },
  {
   "cell_type": "code",
   "execution_count": 17,
   "metadata": {},
   "outputs": [
    {
     "data": {
      "text/plain": [
       "{'n_features': 121,\n",
       " 'list_hidden': [32, 16],\n",
       " 'activation': 'sigmoid',\n",
       " 'batch_size': 128,\n",
       " 'epochs': 500,\n",
       " 'decay_after': 100,\n",
       " 'patience': 16,\n",
       " 'lr': 0.001,\n",
       " 'weight_decay': 0.0004,\n",
       " 'betas': (0.9, 0.999),\n",
       " 'use_dropout': False,\n",
       " 'use_bn': False}"
      ]
     },
     "execution_count": 17,
     "metadata": {},
     "output_type": "execute_result"
    }
   ],
   "source": [
    "SAVED_IN = os.path.abspath(DIR + \"/trained_models\" + \"/NN_tuned_complex_concat\")\n",
    "MODEL_NAME = \"NN_32-16.pth\"\n",
    "config_save_path = os.path.join(SAVED_IN, MODEL_NAME).replace(\"pth\", \"config\")\n",
    "with open(config_save_path, \"rb\") as f:\n",
    "    _config = pickle.load(f)\n",
    "\n",
    "_config"
   ]
  },
  {
   "cell_type": "code",
   "execution_count": 19,
   "metadata": {},
   "outputs": [
    {
     "data": {
      "text/plain": [
       "NN_complex_concat(\n",
       "  (activation): ComplexSigmoid()\n",
       "  (layers): Sequential(\n",
       "    (0): ComplexLinear(\n",
       "      (fc_r): Linear(in_features=121, out_features=32, bias=True)\n",
       "      (fc_i): Linear(in_features=121, out_features=32, bias=True)\n",
       "    )\n",
       "    (1): ComplexSigmoid()\n",
       "    (2): ComplexLinear(\n",
       "      (fc_r): Linear(in_features=32, out_features=16, bias=True)\n",
       "      (fc_i): Linear(in_features=32, out_features=16, bias=True)\n",
       "    )\n",
       "    (3): ComplexSigmoid()\n",
       "  )\n",
       "  (out): Linear(in_features=32, out_features=1, bias=True)\n",
       ")"
      ]
     },
     "execution_count": 19,
     "metadata": {},
     "output_type": "execute_result"
    }
   ],
   "source": [
    "# dot access\n",
    "config = dotdict(_config)\n",
    "\n",
    "model = NN_complex_concat(\n",
    "    n_features=config.n_features,\n",
    "    list_hidden=config.list_hidden,\n",
    "    activation_fn=dict_act_complex[config.activation],\n",
    "    use_dropout=config.use_dropout,\n",
    "    use_bn=config.use_bn,\n",
    ")\n",
    "\n",
    "model.load_state_dict(torch.load(os.path.join(SAVED_IN, MODEL_NAME), map_location=device))\n",
    "model.to(device)\n",
    "model.eval()"
   ]
  },
  {
   "cell_type": "code",
   "execution_count": 20,
   "metadata": {},
   "outputs": [
    {
     "name": "stdout",
     "output_type": "stream",
     "text": [
      "train RMSE: 0.74 mm\n",
      "test RMSE: 0.75 mm\n",
      "TEST RMSE: 1.53 mm\n",
      "TEST MAE: 0.95 mm\n",
      "TEST ME: -0.07 mm\n"
     ]
    }
   ],
   "source": [
    "# evaluation on  training, test and TEST set\n",
    "\n",
    "with torch.no_grad():\n",
    "    y_ = model(torch.from_numpy(X_scaled).to(device)).cpu().numpy().squeeze()\n",
    "    y_TEST_ = model(torch.from_numpy(X_TEST_scaled).to(device)).cpu().numpy().squeeze()\n",
    "y_train_ = y_[idx_train]\n",
    "y_test_ = y_[idx_test]\n",
    "\n",
    "RMSE_test_final_mm = np.sqrt(mean_squared_error(y_test, y_test_))\n",
    "RMSE_train_final_mm = np.sqrt(mean_squared_error(y_train, y_train_))\n",
    "RMSE_TEST_final_mm = np.sqrt(mean_squared_error(y_TEST, y_TEST_))\n",
    "MAE_TEST_final_mm = mean_absolute_error(y_TEST, y_TEST_)\n",
    "ME_TEST_final_mm = np.mean(y_TEST - y_TEST_)\n",
    "\n",
    "print(f\"train RMSE: {RMSE_train_final_mm:.2f} mm\")\n",
    "print(f\"test RMSE: {RMSE_test_final_mm:.2f} mm\")\n",
    "print(f\"TEST RMSE: {RMSE_TEST_final_mm:.2f} mm\")\n",
    "print(f\"TEST MAE: {MAE_TEST_final_mm:.2f} mm\")\n",
    "print(f\"TEST ME: {ME_TEST_final_mm:.2f} mm\")"
   ]
  },
  {
   "attachments": {},
   "cell_type": "markdown",
   "metadata": {},
   "source": [
    "### CVNN fe"
   ]
  },
  {
   "attachments": {},
   "cell_type": "markdown",
   "metadata": {},
   "source": [
    "#### concat"
   ]
  },
  {
   "cell_type": "code",
   "execution_count": 25,
   "metadata": {},
   "outputs": [
    {
     "data": {
      "text/plain": [
       "{'n_features': 121,\n",
       " 'list_hidden': [32, 16],\n",
       " 'activation': 'sigmoid',\n",
       " 'batch_size': 64,\n",
       " 'epochs': 500,\n",
       " 'decay_after': 100,\n",
       " 'patience': 16,\n",
       " 'lr': 0.001,\n",
       " 'weight_decay': 0.0001,\n",
       " 'betas': (0.9, 0.999),\n",
       " 'use_dropout': False,\n",
       " 'use_bn': False}"
      ]
     },
     "execution_count": 25,
     "metadata": {},
     "output_type": "execute_result"
    }
   ],
   "source": [
    "SAVED_IN = os.path.abspath(DIR + \"/trained_models\" + \"/NN_tuned_complex_fe_concat\")\n",
    "MODEL_NAME = \"NN_32-16.pth\"\n",
    "config_save_path = os.path.join(SAVED_IN, MODEL_NAME).replace(\"pth\", \"config\")\n",
    "with open(config_save_path, \"rb\") as f:\n",
    "    _config = pickle.load(f)\n",
    "\n",
    "_config"
   ]
  },
  {
   "cell_type": "code",
   "execution_count": 27,
   "metadata": {},
   "outputs": [
    {
     "data": {
      "text/plain": [
       "NN_complex_fe_concat(\n",
       "  (activation): ComplexSigmoid()\n",
       "  (layers): Sequential(\n",
       "    (0): ComplexLinear(\n",
       "      (fc_r): Linear(in_features=121, out_features=32, bias=True)\n",
       "      (fc_i): Linear(in_features=121, out_features=32, bias=True)\n",
       "    )\n",
       "    (1): ComplexSigmoid()\n",
       "    (2): ComplexLinear(\n",
       "      (fc_r): Linear(in_features=32, out_features=16, bias=True)\n",
       "      (fc_i): Linear(in_features=32, out_features=16, bias=True)\n",
       "    )\n",
       "    (3): ComplexSigmoid()\n",
       "  )\n",
       "  (out): Linear(in_features=32, out_features=1, bias=True)\n",
       ")"
      ]
     },
     "execution_count": 27,
     "metadata": {},
     "output_type": "execute_result"
    }
   ],
   "source": [
    "# dot access\n",
    "config = dotdict(_config)\n",
    "\n",
    "model = NN_complex_fe_concat(\n",
    "    n_features=config.n_features,\n",
    "    list_hidden=config.list_hidden,\n",
    "    activation_fn=dict_act_complex[config.activation],\n",
    "    device=device,\n",
    "    use_dropout=config.use_dropout,\n",
    "    use_bn=config.use_bn,\n",
    ")\n",
    "\n",
    "model.load_state_dict(torch.load(os.path.join(SAVED_IN, MODEL_NAME), map_location=device))\n",
    "model.to(device)\n",
    "model.eval()"
   ]
  },
  {
   "cell_type": "code",
   "execution_count": 28,
   "metadata": {},
   "outputs": [
    {
     "name": "stdout",
     "output_type": "stream",
     "text": [
      "train RMSE: 0.87 mm\n",
      "test RMSE: 0.89 mm\n",
      "TEST RMSE: 1.58 mm\n",
      "TEST MAE: 0.93 mm\n",
      "TEST ME: -0.01 mm\n"
     ]
    }
   ],
   "source": [
    "# evaluation on  training, test and TEST set\n",
    "\n",
    "with torch.no_grad():\n",
    "    y_ = model(torch.from_numpy(X_scaled).to(device)).cpu().numpy().squeeze()\n",
    "    y_TEST_ = model(torch.from_numpy(X_TEST_scaled).to(device)).cpu().numpy().squeeze()\n",
    "y_train_ = y_[idx_train]\n",
    "y_test_ = y_[idx_test]\n",
    "\n",
    "RMSE_test_final_mm = np.sqrt(mean_squared_error(y_test, y_test_))\n",
    "RMSE_train_final_mm = np.sqrt(mean_squared_error(y_train, y_train_))\n",
    "RMSE_TEST_final_mm = np.sqrt(mean_squared_error(y_TEST, y_TEST_))\n",
    "MAE_TEST_final_mm = mean_absolute_error(y_TEST, y_TEST_)\n",
    "ME_TEST_final_mm = np.mean(y_TEST - y_TEST_)\n",
    "\n",
    "print(f\"train RMSE: {RMSE_train_final_mm:.2f} mm\")\n",
    "print(f\"test RMSE: {RMSE_test_final_mm:.2f} mm\")\n",
    "print(f\"TEST RMSE: {RMSE_TEST_final_mm:.2f} mm\")\n",
    "print(f\"TEST MAE: {MAE_TEST_final_mm:.2f} mm\")\n",
    "print(f\"TEST ME: {ME_TEST_final_mm:.2f} mm\")"
   ]
  },
  {
   "attachments": {},
   "cell_type": "markdown",
   "metadata": {},
   "source": [
    "#### abs"
   ]
  },
  {
   "cell_type": "code",
   "execution_count": 11,
   "metadata": {},
   "outputs": [
    {
     "data": {
      "text/plain": [
       "{'n_features': 121,\n",
       " 'list_hidden': [32, 16],\n",
       " 'activation': 'sigmoid',\n",
       " 'batch_size': 128,\n",
       " 'epochs': 500,\n",
       " 'decay_after': 100,\n",
       " 'patience': 16,\n",
       " 'lr': 0.001,\n",
       " 'weight_decay': 0.0001,\n",
       " 'betas': (0.9, 0.999),\n",
       " 'use_dropout': False,\n",
       " 'use_bn': False}"
      ]
     },
     "execution_count": 11,
     "metadata": {},
     "output_type": "execute_result"
    }
   ],
   "source": [
    "SAVED_IN = os.path.abspath(DIR + \"/trained_models\" + \"/NN_tuned_complex_fe\")\n",
    "MODEL_NAME = \"NN_32-16.pth\"\n",
    "config_save_path = os.path.join(SAVED_IN, MODEL_NAME).replace(\"pth\", \"config\")\n",
    "with open(config_save_path, \"rb\") as f:\n",
    "    _config = pickle.load(f)\n",
    "\n",
    "_config"
   ]
  },
  {
   "cell_type": "code",
   "execution_count": 13,
   "metadata": {},
   "outputs": [
    {
     "data": {
      "text/plain": [
       "NN_complex_fe(\n",
       "  (activation): ComplexSigmoid()\n",
       "  (layers): Sequential(\n",
       "    (0): ComplexLinear(\n",
       "      (fc_r): Linear(in_features=121, out_features=32, bias=True)\n",
       "      (fc_i): Linear(in_features=121, out_features=32, bias=True)\n",
       "    )\n",
       "    (1): ComplexSigmoid()\n",
       "    (2): ComplexLinear(\n",
       "      (fc_r): Linear(in_features=32, out_features=16, bias=True)\n",
       "      (fc_i): Linear(in_features=32, out_features=16, bias=True)\n",
       "    )\n",
       "    (3): ComplexSigmoid()\n",
       "    (4): ComplexLinear(\n",
       "      (fc_r): Linear(in_features=16, out_features=1, bias=True)\n",
       "      (fc_i): Linear(in_features=16, out_features=1, bias=True)\n",
       "    )\n",
       "  )\n",
       ")"
      ]
     },
     "execution_count": 13,
     "metadata": {},
     "output_type": "execute_result"
    }
   ],
   "source": [
    "# dot access\n",
    "config = dotdict(_config)\n",
    "\n",
    "model = NN_complex_fe(\n",
    "    n_features=config.n_features,\n",
    "    list_hidden=config.list_hidden,\n",
    "    activation_fn=dict_act_complex[config.activation],\n",
    "    device=device,\n",
    "    use_dropout=config.use_dropout,\n",
    "    use_bn=config.use_bn,\n",
    ")\n",
    "\n",
    "model.load_state_dict(torch.load(os.path.join(SAVED_IN, MODEL_NAME), map_location=device))\n",
    "model.to(device)\n",
    "model.eval()"
   ]
  },
  {
   "cell_type": "code",
   "execution_count": 14,
   "metadata": {},
   "outputs": [
    {
     "name": "stdout",
     "output_type": "stream",
     "text": [
      "train RMSE: 0.69 mm\n",
      "test RMSE: 0.71 mm\n",
      "TEST RMSE: 1.23 mm\n",
      "TEST MAE: 0.75 mm\n",
      "TEST ME: -0.07 mm\n"
     ]
    }
   ],
   "source": [
    "# evaluation on  training, test and TEST set\n",
    "\n",
    "with torch.no_grad():\n",
    "    y_ = model(torch.from_numpy(X_scaled).to(device)).cpu().numpy().squeeze()\n",
    "    y_TEST_ = model(torch.from_numpy(X_TEST_scaled).to(device)).cpu().numpy().squeeze()\n",
    "y_train_ = y_[idx_train]\n",
    "y_test_ = y_[idx_test]\n",
    "\n",
    "RMSE_test_final_mm = np.sqrt(mean_squared_error(y_test, y_test_))\n",
    "RMSE_train_final_mm = np.sqrt(mean_squared_error(y_train, y_train_))\n",
    "RMSE_TEST_final_mm = np.sqrt(mean_squared_error(y_TEST, y_TEST_))\n",
    "MAE_TEST_final_mm = mean_absolute_error(y_TEST, y_TEST_)\n",
    "ME_TEST_final_mm = np.mean(y_TEST - y_TEST_)\n",
    "\n",
    "print(f\"train RMSE: {RMSE_train_final_mm:.2f} mm\")\n",
    "print(f\"test RMSE: {RMSE_test_final_mm:.2f} mm\")\n",
    "print(f\"TEST RMSE: {RMSE_TEST_final_mm:.2f} mm\")\n",
    "print(f\"TEST MAE: {MAE_TEST_final_mm:.2f} mm\")\n",
    "print(f\"TEST ME: {ME_TEST_final_mm:.2f} mm\")"
   ]
  },
  {
   "attachments": {},
   "cell_type": "markdown",
   "metadata": {},
   "source": [
    "### CVCNN"
   ]
  },
  {
   "cell_type": "code",
   "execution_count": 21,
   "metadata": {},
   "outputs": [
    {
     "data": {
      "text/plain": [
       "{'base_channels': 4,\n",
       " 'activation': 'sigmoid',\n",
       " 'batch_size': 64,\n",
       " 'epochs': 500,\n",
       " 'decay_after': 100,\n",
       " 'patience': 16,\n",
       " 'lr': 0.001,\n",
       " 'weight_decay': 0.001,\n",
       " 'betas': (0.9, 0.999),\n",
       " 'use_dropout': False,\n",
       " 'use_bn': False}"
      ]
     },
     "execution_count": 21,
     "metadata": {},
     "output_type": "execute_result"
    }
   ],
   "source": [
    "SAVED_IN = os.path.abspath(DIR + \"/trained_models\" + \"/CNN_complex\")\n",
    "MODEL_NAME = \"cnn_baseline.pth\"\n",
    "config_save_path = os.path.join(SAVED_IN, MODEL_NAME).replace(\"pth\", \"config\")\n",
    "with open(config_save_path, \"rb\") as f:\n",
    "    _config = pickle.load(f)\n",
    "\n",
    "_config"
   ]
  },
  {
   "cell_type": "code",
   "execution_count": 22,
   "metadata": {},
   "outputs": [
    {
     "data": {
      "text/plain": [
       "CNN_baseline_complex(\n",
       "  (conv1): ComplexConv1d(\n",
       "    (conv_r): Conv1d(1, 4, kernel_size=(11,), stride=(5,))\n",
       "    (conv_i): Conv1d(1, 4, kernel_size=(11,), stride=(5,))\n",
       "  )\n",
       "  (conv2): ComplexConv1d(\n",
       "    (conv_r): Conv1d(4, 8, kernel_size=(3,), stride=(2,))\n",
       "    (conv_i): Conv1d(4, 8, kernel_size=(3,), stride=(2,))\n",
       "  )\n",
       "  (conv3): ComplexConv1d(\n",
       "    (conv_r): Conv1d(8, 16, kernel_size=(3,), stride=(2,))\n",
       "    (conv_i): Conv1d(8, 16, kernel_size=(3,), stride=(2,))\n",
       "  )\n",
       "  (conv4): ComplexConv1d(\n",
       "    (conv_r): Conv1d(16, 32, kernel_size=(3,), stride=(1,))\n",
       "    (conv_i): Conv1d(16, 32, kernel_size=(3,), stride=(1,))\n",
       "  )\n",
       "  (conv5): ComplexConv1d(\n",
       "    (conv_r): Conv1d(32, 32, kernel_size=(3,), stride=(1,))\n",
       "    (conv_i): Conv1d(32, 32, kernel_size=(3,), stride=(1,))\n",
       "  )\n",
       "  (fc): Linear(in_features=64, out_features=1, bias=True)\n",
       "  (conv_block1): Sequential(\n",
       "    (0): ComplexConv1d(\n",
       "      (conv_r): Conv1d(1, 4, kernel_size=(11,), stride=(5,))\n",
       "      (conv_i): Conv1d(1, 4, kernel_size=(11,), stride=(5,))\n",
       "    )\n",
       "    (1): ComplexSigmoid()\n",
       "  )\n",
       "  (conv_block2): Sequential(\n",
       "    (0): ComplexConv1d(\n",
       "      (conv_r): Conv1d(4, 8, kernel_size=(3,), stride=(2,))\n",
       "      (conv_i): Conv1d(4, 8, kernel_size=(3,), stride=(2,))\n",
       "    )\n",
       "    (1): ComplexSigmoid()\n",
       "  )\n",
       "  (conv_block3): Sequential(\n",
       "    (0): ComplexConv1d(\n",
       "      (conv_r): Conv1d(8, 16, kernel_size=(3,), stride=(2,))\n",
       "      (conv_i): Conv1d(8, 16, kernel_size=(3,), stride=(2,))\n",
       "    )\n",
       "    (1): ComplexSigmoid()\n",
       "  )\n",
       "  (conv_block4): Sequential(\n",
       "    (0): ComplexConv1d(\n",
       "      (conv_r): Conv1d(16, 32, kernel_size=(3,), stride=(1,))\n",
       "      (conv_i): Conv1d(16, 32, kernel_size=(3,), stride=(1,))\n",
       "    )\n",
       "    (1): ComplexSigmoid()\n",
       "  )\n",
       "  (conv_block5): Sequential(\n",
       "    (0): ComplexConv1d(\n",
       "      (conv_r): Conv1d(32, 32, kernel_size=(3,), stride=(1,))\n",
       "      (conv_i): Conv1d(32, 32, kernel_size=(3,), stride=(1,))\n",
       "    )\n",
       "    (1): ComplexSigmoid()\n",
       "  )\n",
       ")"
      ]
     },
     "execution_count": 22,
     "metadata": {},
     "output_type": "execute_result"
    }
   ],
   "source": [
    "# dot access\n",
    "config = dotdict(_config)\n",
    "\n",
    "model = CNN_baseline_complex(\n",
    "    base_channels=config.base_channels,\n",
    "    activation_fn=dict_act_complex[config.activation],\n",
    "    use_dropout=config.use_dropout,\n",
    "    use_bn=config.use_bn,\n",
    ").to(device)\n",
    "\n",
    "model.load_state_dict(torch.load(os.path.join(SAVED_IN, MODEL_NAME), map_location=device))\n",
    "model.to(device)\n",
    "model.eval()"
   ]
  },
  {
   "cell_type": "code",
   "execution_count": 23,
   "metadata": {},
   "outputs": [
    {
     "name": "stdout",
     "output_type": "stream",
     "text": [
      "train RMSE: 1.00 mm\n",
      "test RMSE: 1.00 mm\n",
      "TEST RMSE: 1.53 mm\n",
      "TEST MAE: 1.02 mm\n",
      "TEST ME: 0.45 mm\n"
     ]
    }
   ],
   "source": [
    "# evaluation on  training, test and TEST set\n",
    "\n",
    "with torch.no_grad():\n",
    "    y_ = model(torch.from_numpy(X_scaled).unsqueeze(1).to(device)).cpu().numpy().squeeze()\n",
    "    y_TEST_ = model(torch.from_numpy(X_TEST_scaled).unsqueeze(1).to(device)).cpu().numpy().squeeze()\n",
    "y_train_ = y_[idx_train]\n",
    "y_test_ = y_[idx_test]\n",
    "\n",
    "RMSE_test_final_mm = np.sqrt(mean_squared_error(y_test, y_test_))\n",
    "RMSE_train_final_mm = np.sqrt(mean_squared_error(y_train, y_train_))\n",
    "RMSE_TEST_final_mm = np.sqrt(mean_squared_error(y_TEST, y_TEST_))\n",
    "MAE_TEST_final_mm = mean_absolute_error(y_TEST, y_TEST_)\n",
    "ME_TEST_final_mm = np.mean(y_TEST - y_TEST_)\n",
    "\n",
    "print(f\"train RMSE: {RMSE_train_final_mm:.2f} mm\")\n",
    "print(f\"test RMSE: {RMSE_test_final_mm:.2f} mm\")\n",
    "print(f\"TEST RMSE: {RMSE_TEST_final_mm:.2f} mm\")\n",
    "print(f\"TEST MAE: {MAE_TEST_final_mm:.2f} mm\")\n",
    "print(f\"TEST ME: {ME_TEST_final_mm:.2f} mm\")"
   ]
  },
  {
   "cell_type": "code",
   "execution_count": null,
   "metadata": {},
   "outputs": [],
   "source": []
  },
  {
   "attachments": {},
   "cell_type": "markdown",
   "metadata": {},
   "source": [
    "### CVCNN fe"
   ]
  },
  {
   "cell_type": "code",
   "execution_count": 24,
   "metadata": {},
   "outputs": [
    {
     "data": {
      "text/plain": [
       "{'n_features': 121,\n",
       " 'base_channels': 4,\n",
       " 'activation': 'sigmoid',\n",
       " 'batch_size': 64,\n",
       " 'epochs': 500,\n",
       " 'decay_after': 100,\n",
       " 'patience': 16,\n",
       " 'lr': 0.001,\n",
       " 'weight_decay': 0.0001,\n",
       " 'betas': (0.9, 0.999),\n",
       " 'use_fe': True,\n",
       " 'use_dropout': False,\n",
       " 'use_bn': False}"
      ]
     },
     "execution_count": 24,
     "metadata": {},
     "output_type": "execute_result"
    }
   ],
   "source": [
    "SAVED_IN = os.path.abspath(DIR + \"/trained_models\" + \"/CNN_complex_fe\")\n",
    "MODEL_NAME = \"cnn_baseline.pth\"\n",
    "config_save_path = os.path.join(SAVED_IN, MODEL_NAME).replace(\"pth\", \"config\")\n",
    "with open(config_save_path, \"rb\") as f:\n",
    "    _config = pickle.load(f)\n",
    "\n",
    "_config"
   ]
  },
  {
   "cell_type": "code",
   "execution_count": 25,
   "metadata": {},
   "outputs": [
    {
     "data": {
      "text/plain": [
       "CNN_baseline_complex_fe(\n",
       "  (conv1): ComplexConv1d(\n",
       "    (conv_r): Conv1d(1, 4, kernel_size=(11,), stride=(5,))\n",
       "    (conv_i): Conv1d(1, 4, kernel_size=(11,), stride=(5,))\n",
       "  )\n",
       "  (conv2): ComplexConv1d(\n",
       "    (conv_r): Conv1d(4, 8, kernel_size=(3,), stride=(2,))\n",
       "    (conv_i): Conv1d(4, 8, kernel_size=(3,), stride=(2,))\n",
       "  )\n",
       "  (conv3): ComplexConv1d(\n",
       "    (conv_r): Conv1d(8, 16, kernel_size=(3,), stride=(2,))\n",
       "    (conv_i): Conv1d(8, 16, kernel_size=(3,), stride=(2,))\n",
       "  )\n",
       "  (conv4): ComplexConv1d(\n",
       "    (conv_r): Conv1d(16, 32, kernel_size=(3,), stride=(1,))\n",
       "    (conv_i): Conv1d(16, 32, kernel_size=(3,), stride=(1,))\n",
       "  )\n",
       "  (conv5): ComplexConv1d(\n",
       "    (conv_r): Conv1d(32, 32, kernel_size=(3,), stride=(1,))\n",
       "    (conv_i): Conv1d(32, 32, kernel_size=(3,), stride=(1,))\n",
       "  )\n",
       "  (fc): Linear(in_features=64, out_features=1, bias=True)\n",
       "  (conv_block1): Sequential(\n",
       "    (0): ComplexConv1d(\n",
       "      (conv_r): Conv1d(1, 4, kernel_size=(11,), stride=(5,))\n",
       "      (conv_i): Conv1d(1, 4, kernel_size=(11,), stride=(5,))\n",
       "    )\n",
       "    (1): ComplexSigmoid()\n",
       "  )\n",
       "  (conv_block2): Sequential(\n",
       "    (0): ComplexConv1d(\n",
       "      (conv_r): Conv1d(4, 8, kernel_size=(3,), stride=(2,))\n",
       "      (conv_i): Conv1d(4, 8, kernel_size=(3,), stride=(2,))\n",
       "    )\n",
       "    (1): ComplexSigmoid()\n",
       "  )\n",
       "  (conv_block3): Sequential(\n",
       "    (0): ComplexConv1d(\n",
       "      (conv_r): Conv1d(8, 16, kernel_size=(3,), stride=(2,))\n",
       "      (conv_i): Conv1d(8, 16, kernel_size=(3,), stride=(2,))\n",
       "    )\n",
       "    (1): ComplexSigmoid()\n",
       "  )\n",
       "  (conv_block4): Sequential(\n",
       "    (0): ComplexConv1d(\n",
       "      (conv_r): Conv1d(16, 32, kernel_size=(3,), stride=(1,))\n",
       "      (conv_i): Conv1d(16, 32, kernel_size=(3,), stride=(1,))\n",
       "    )\n",
       "    (1): ComplexSigmoid()\n",
       "  )\n",
       "  (conv_block5): Sequential(\n",
       "    (0): ComplexConv1d(\n",
       "      (conv_r): Conv1d(32, 32, kernel_size=(3,), stride=(1,))\n",
       "      (conv_i): Conv1d(32, 32, kernel_size=(3,), stride=(1,))\n",
       "    )\n",
       "    (1): ComplexSigmoid()\n",
       "  )\n",
       ")"
      ]
     },
     "execution_count": 25,
     "metadata": {},
     "output_type": "execute_result"
    }
   ],
   "source": [
    "# dot access\n",
    "config = dotdict(_config)\n",
    "\n",
    "model = CNN_baseline_complex_fe(\n",
    "    n_features=config.n_features,\n",
    "    base_channels=config.base_channels,\n",
    "    device=device,\n",
    "    activation_fn=dict_act_complex[config.activation],\n",
    "    use_fe=config.use_fe,\n",
    "    use_dropout=config.use_dropout,\n",
    "    use_bn=config.use_bn,\n",
    ").to(device)\n",
    "\n",
    "model.load_state_dict(torch.load(os.path.join(SAVED_IN, MODEL_NAME), map_location=device))\n",
    "model.to(device)\n",
    "model.eval()"
   ]
  },
  {
   "cell_type": "code",
   "execution_count": 26,
   "metadata": {},
   "outputs": [
    {
     "name": "stdout",
     "output_type": "stream",
     "text": [
      "train RMSE: 0.73 mm\n",
      "test RMSE: 0.73 mm\n",
      "TEST RMSE: 1.01 mm\n",
      "TEST MAE: 0.74 mm\n",
      "TEST ME: 0.18 mm\n"
     ]
    }
   ],
   "source": [
    "# evaluation on  training, test and TEST set\n",
    "\n",
    "with torch.no_grad():\n",
    "    y_ = model(torch.from_numpy(X_scaled).unsqueeze(1).to(device)).cpu().numpy().squeeze()\n",
    "    y_TEST_ = model(torch.from_numpy(X_TEST_scaled).unsqueeze(1).to(device)).cpu().numpy().squeeze()\n",
    "y_train_ = y_[idx_train]\n",
    "y_test_ = y_[idx_test]\n",
    "\n",
    "RMSE_test_final_mm = np.sqrt(mean_squared_error(y_test, y_test_))\n",
    "RMSE_train_final_mm = np.sqrt(mean_squared_error(y_train, y_train_))\n",
    "RMSE_TEST_final_mm = np.sqrt(mean_squared_error(y_TEST, y_TEST_))\n",
    "MAE_TEST_final_mm = mean_absolute_error(y_TEST, y_TEST_)\n",
    "ME_TEST_final_mm = np.mean(y_TEST - y_TEST_)\n",
    "\n",
    "print(f\"train RMSE: {RMSE_train_final_mm:.2f} mm\")\n",
    "print(f\"test RMSE: {RMSE_test_final_mm:.2f} mm\")\n",
    "print(f\"TEST RMSE: {RMSE_TEST_final_mm:.2f} mm\")\n",
    "print(f\"TEST MAE: {MAE_TEST_final_mm:.2f} mm\")\n",
    "print(f\"TEST ME: {ME_TEST_final_mm:.2f} mm\")"
   ]
  },
  {
   "attachments": {},
   "cell_type": "markdown",
   "metadata": {},
   "source": [
    "## Model parameters\n",
    "from nn_util import count_parameters_table\n"
   ]
  },
  {
   "attachments": {},
   "cell_type": "markdown",
   "metadata": {},
   "source": [
    "### CVCNN_FE"
   ]
  },
  {
   "cell_type": "code",
   "execution_count": 20,
   "metadata": {},
   "outputs": [],
   "source": [
    "SAVED_IN = os.path.abspath(DIR + \"/trained_models\" + \"/CNN_complex_fe\")\n",
    "MODEL_NAME = \"cnn_baseline.pth\"\n",
    "config_save_path = os.path.join(SAVED_IN, MODEL_NAME).replace(\"pth\", \"config\")\n",
    "with open(config_save_path, \"rb\") as f:\n",
    "    _config = pickle.load(f)"
   ]
  },
  {
   "cell_type": "code",
   "execution_count": 21,
   "metadata": {},
   "outputs": [
    {
     "data": {
      "text/plain": [
       "CNN_baseline_complex_fe(\n",
       "  (conv1): ComplexConv1d(\n",
       "    (conv_r): Conv1d(1, 4, kernel_size=(11,), stride=(5,))\n",
       "    (conv_i): Conv1d(1, 4, kernel_size=(11,), stride=(5,))\n",
       "  )\n",
       "  (conv2): ComplexConv1d(\n",
       "    (conv_r): Conv1d(4, 8, kernel_size=(3,), stride=(2,))\n",
       "    (conv_i): Conv1d(4, 8, kernel_size=(3,), stride=(2,))\n",
       "  )\n",
       "  (conv3): ComplexConv1d(\n",
       "    (conv_r): Conv1d(8, 16, kernel_size=(3,), stride=(2,))\n",
       "    (conv_i): Conv1d(8, 16, kernel_size=(3,), stride=(2,))\n",
       "  )\n",
       "  (conv4): ComplexConv1d(\n",
       "    (conv_r): Conv1d(16, 32, kernel_size=(3,), stride=(1,))\n",
       "    (conv_i): Conv1d(16, 32, kernel_size=(3,), stride=(1,))\n",
       "  )\n",
       "  (conv5): ComplexConv1d(\n",
       "    (conv_r): Conv1d(32, 32, kernel_size=(3,), stride=(1,))\n",
       "    (conv_i): Conv1d(32, 32, kernel_size=(3,), stride=(1,))\n",
       "  )\n",
       "  (fc): Linear(in_features=64, out_features=1, bias=True)\n",
       "  (conv_block1): Sequential(\n",
       "    (0): ComplexConv1d(\n",
       "      (conv_r): Conv1d(1, 4, kernel_size=(11,), stride=(5,))\n",
       "      (conv_i): Conv1d(1, 4, kernel_size=(11,), stride=(5,))\n",
       "    )\n",
       "    (1): ComplexSigmoid()\n",
       "  )\n",
       "  (conv_block2): Sequential(\n",
       "    (0): ComplexConv1d(\n",
       "      (conv_r): Conv1d(4, 8, kernel_size=(3,), stride=(2,))\n",
       "      (conv_i): Conv1d(4, 8, kernel_size=(3,), stride=(2,))\n",
       "    )\n",
       "    (1): ComplexSigmoid()\n",
       "  )\n",
       "  (conv_block3): Sequential(\n",
       "    (0): ComplexConv1d(\n",
       "      (conv_r): Conv1d(8, 16, kernel_size=(3,), stride=(2,))\n",
       "      (conv_i): Conv1d(8, 16, kernel_size=(3,), stride=(2,))\n",
       "    )\n",
       "    (1): ComplexSigmoid()\n",
       "  )\n",
       "  (conv_block4): Sequential(\n",
       "    (0): ComplexConv1d(\n",
       "      (conv_r): Conv1d(16, 32, kernel_size=(3,), stride=(1,))\n",
       "      (conv_i): Conv1d(16, 32, kernel_size=(3,), stride=(1,))\n",
       "    )\n",
       "    (1): ComplexSigmoid()\n",
       "  )\n",
       "  (conv_block5): Sequential(\n",
       "    (0): ComplexConv1d(\n",
       "      (conv_r): Conv1d(32, 32, kernel_size=(3,), stride=(1,))\n",
       "      (conv_i): Conv1d(32, 32, kernel_size=(3,), stride=(1,))\n",
       "    )\n",
       "    (1): ComplexSigmoid()\n",
       "  )\n",
       ")"
      ]
     },
     "execution_count": 21,
     "metadata": {},
     "output_type": "execute_result"
    }
   ],
   "source": [
    "# dot access\n",
    "config = dotdict(_config)\n",
    "\n",
    "cvcnn = CNN_baseline_complex_fe(\n",
    "    n_features=config.n_features,\n",
    "    base_channels=config.base_channels,\n",
    "    device=device,\n",
    "    activation_fn=dict_act_complex[config.activation],\n",
    "    use_fe=config.use_fe,\n",
    "    use_dropout=config.use_dropout,\n",
    "    use_bn=config.use_bn,\n",
    ").to(device)"
   ]
  },
  {
   "cell_type": "code",
   "execution_count": 22,
   "metadata": {},
   "outputs": [
    {
     "name": "stdout",
     "output_type": "stream",
     "text": [
      "+---------------------+------------+\n",
      "|       Modules       | Parameters |\n",
      "+---------------------+------------+\n",
      "|        weight       |    121     |\n",
      "| conv1.conv_r.weight |     44     |\n",
      "|  conv1.conv_r.bias  |     4      |\n",
      "| conv1.conv_i.weight |     44     |\n",
      "|  conv1.conv_i.bias  |     4      |\n",
      "| conv2.conv_r.weight |     96     |\n",
      "|  conv2.conv_r.bias  |     8      |\n",
      "| conv2.conv_i.weight |     96     |\n",
      "|  conv2.conv_i.bias  |     8      |\n",
      "| conv3.conv_r.weight |    384     |\n",
      "|  conv3.conv_r.bias  |     16     |\n",
      "| conv3.conv_i.weight |    384     |\n",
      "|  conv3.conv_i.bias  |     16     |\n",
      "| conv4.conv_r.weight |    1536    |\n",
      "|  conv4.conv_r.bias  |     32     |\n",
      "| conv4.conv_i.weight |    1536    |\n",
      "|  conv4.conv_i.bias  |     32     |\n",
      "| conv5.conv_r.weight |    3072    |\n",
      "|  conv5.conv_r.bias  |     32     |\n",
      "| conv5.conv_i.weight |    3072    |\n",
      "|  conv5.conv_i.bias  |     32     |\n",
      "|      fc.weight      |     64     |\n",
      "|       fc.bias       |     1      |\n",
      "+---------------------+------------+\n",
      "Total Trainable Params: 10634\n"
     ]
    },
    {
     "data": {
      "text/plain": [
       "10634"
      ]
     },
     "execution_count": 22,
     "metadata": {},
     "output_type": "execute_result"
    }
   ],
   "source": [
    "count_parameters_table(cvcnn)"
   ]
  },
  {
   "attachments": {},
   "cell_type": "markdown",
   "metadata": {},
   "source": [
    "### CNN_FE"
   ]
  },
  {
   "cell_type": "code",
   "execution_count": 23,
   "metadata": {},
   "outputs": [
    {
     "data": {
      "text/plain": [
       "CNN_baseline_fe(\n",
       "  (conv1): Conv1d(1, 8, kernel_size=(22,), stride=(11,))\n",
       "  (conv2): Conv1d(8, 16, kernel_size=(3,), stride=(2,))\n",
       "  (conv3): Conv1d(16, 32, kernel_size=(3,), stride=(2,))\n",
       "  (conv4): Conv1d(32, 64, kernel_size=(3,), stride=(1,))\n",
       "  (fc): Linear(in_features=128, out_features=1, bias=True)\n",
       "  (conv_block1): Sequential(\n",
       "    (0): Conv1d(1, 8, kernel_size=(22,), stride=(11,))\n",
       "    (1): ComplexSigmoid()\n",
       "  )\n",
       "  (conv_block2): Sequential(\n",
       "    (0): Conv1d(8, 16, kernel_size=(3,), stride=(2,))\n",
       "    (1): ComplexSigmoid()\n",
       "  )\n",
       "  (conv_block3): Sequential(\n",
       "    (0): Conv1d(16, 32, kernel_size=(3,), stride=(2,))\n",
       "    (1): ComplexSigmoid()\n",
       "  )\n",
       "  (conv_block4): Sequential(\n",
       "    (0): Conv1d(32, 64, kernel_size=(3,), stride=(1,))\n",
       "    (1): ComplexSigmoid()\n",
       "  )\n",
       ")"
      ]
     },
     "execution_count": 23,
     "metadata": {},
     "output_type": "execute_result"
    }
   ],
   "source": [
    "SAVED_IN = os.path.abspath(DIR + \"/trained_models\" + \"/CNN_fe\")\n",
    "MODEL_NAME = \"cnn_baseline.pth\"\n",
    "config_save_path = os.path.join(SAVED_IN, MODEL_NAME).replace(\"pth\", \"config\")\n",
    "with open(config_save_path, \"rb\") as f:\n",
    "    _config = pickle.load(f)\n",
    "\n",
    "# dot access\n",
    "config = dotdict(_config)\n",
    "\n",
    "cnn = CNN_baseline_fe(\n",
    "    n_features=config.n_features,\n",
    "    base_channels=config.base_channels,\n",
    "    device=device,\n",
    "    activation_fn=dict_act_complex[config.activation],\n",
    "    use_fe=config.use_fe,\n",
    "    use_dropout=config.use_dropout,\n",
    "    use_bn=config.use_bn,\n",
    ").to(device)\n"
   ]
  },
  {
   "cell_type": "code",
   "execution_count": 24,
   "metadata": {},
   "outputs": [
    {
     "name": "stdout",
     "output_type": "stream",
     "text": [
      "+--------------+------------+\n",
      "|   Modules    | Parameters |\n",
      "+--------------+------------+\n",
      "|    weight    |    242     |\n",
      "| conv1.weight |    176     |\n",
      "|  conv1.bias  |     8      |\n",
      "| conv2.weight |    384     |\n",
      "|  conv2.bias  |     16     |\n",
      "| conv3.weight |    1536    |\n",
      "|  conv3.bias  |     32     |\n",
      "| conv4.weight |    6144    |\n",
      "|  conv4.bias  |     64     |\n",
      "|  fc.weight   |    128     |\n",
      "|   fc.bias    |     1      |\n",
      "+--------------+------------+\n",
      "Total Trainable Params: 8731\n"
     ]
    },
    {
     "data": {
      "text/plain": [
       "8731"
      ]
     },
     "execution_count": 24,
     "metadata": {},
     "output_type": "execute_result"
    }
   ],
   "source": [
    "count_parameters_table(cnn)"
   ]
  }
 ],
 "metadata": {
  "kernelspec": {
   "display_name": "leg",
   "language": "python",
   "name": "python3"
  },
  "language_info": {
   "codemirror_mode": {
    "name": "ipython",
    "version": 3
   },
   "file_extension": ".py",
   "mimetype": "text/x-python",
   "name": "python",
   "nbconvert_exporter": "python",
   "pygments_lexer": "ipython3",
   "version": "3.8.16"
  },
  "orig_nbformat": 4,
  "vscode": {
   "interpreter": {
    "hash": "e33c93526584cbadfe3255d1cdc89181e0e705890fdf40e6106f499ea9b47b68"
   }
  }
 },
 "nbformat": 4,
 "nbformat_minor": 2
}
